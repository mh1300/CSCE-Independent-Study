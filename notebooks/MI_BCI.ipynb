{
 "cells": [
  {
   "cell_type": "code",
   "execution_count": 7,
   "id": "06f05f8e-1395-4da0-ab67-029ff1abd285",
   "metadata": {},
   "outputs": [],
   "source": [
    "# Convert from MI_BCI .mat files to BIDs Format\n",
    "from pymatreader import read_mat\n",
    "import numpy as np\n",
    "from pathlib import Path\n",
    "\n",
    "import mne\n",
    "\n",
    "from mne_bids import BIDSPath, print_dir_tree, write_raw_bids\n",
    "from mne_bids.stats import count_events"
   ]
  },
  {
   "cell_type": "code",
   "execution_count": 12,
   "id": "3876a33e-cea5-4c64-81d2-cd2fac4f47b9",
   "metadata": {
    "scrolled": true
   },
   "outputs": [
    {
     "name": "stdout",
     "output_type": "stream",
     "text": [
      "Reading ..\\datasets\\MI_BCI\\s01.mat\n",
      "Reading ..\\datasets\\MI_BCI\\s02.mat\n",
      "Reading ..\\datasets\\MI_BCI\\s03.mat\n",
      "Reading ..\\datasets\\MI_BCI\\s04.mat\n",
      "Reading ..\\datasets\\MI_BCI\\s05.mat\n",
      "Reading ..\\datasets\\MI_BCI\\s06.mat\n",
      "Reading ..\\datasets\\MI_BCI\\s07.mat\n",
      "Reading ..\\datasets\\MI_BCI\\s08.mat\n",
      "Reading ..\\datasets\\MI_BCI\\s09.mat\n",
      "Reading ..\\datasets\\MI_BCI\\s10.mat\n",
      "Reading ..\\datasets\\MI_BCI\\s11.mat\n",
      "Reading ..\\datasets\\MI_BCI\\s12.mat\n",
      "Reading ..\\datasets\\MI_BCI\\s13.mat\n",
      "Reading ..\\datasets\\MI_BCI\\s14.mat\n",
      "Reading ..\\datasets\\MI_BCI\\s15.mat\n",
      "Reading ..\\datasets\\MI_BCI\\s16.mat\n",
      "Reading ..\\datasets\\MI_BCI\\s17.mat\n",
      "Reading ..\\datasets\\MI_BCI\\s18.mat\n",
      "Reading ..\\datasets\\MI_BCI\\s19.mat\n",
      "Reading ..\\datasets\\MI_BCI\\s20.mat\n",
      "Reading ..\\datasets\\MI_BCI\\s21.mat\n",
      "Reading ..\\datasets\\MI_BCI\\s22.mat\n",
      "Reading ..\\datasets\\MI_BCI\\s23.mat\n",
      "Reading ..\\datasets\\MI_BCI\\s24.mat\n",
      "Reading ..\\datasets\\MI_BCI\\s25.mat\n",
      "Reading ..\\datasets\\MI_BCI\\s26.mat\n",
      "Reading ..\\datasets\\MI_BCI\\s28.mat\n",
      "Reading ..\\datasets\\MI_BCI\\s29.mat\n",
      "Reading ..\\datasets\\MI_BCI\\s30.mat\n",
      "Reading ..\\datasets\\MI_BCI\\s31.mat\n",
      "Reading ..\\datasets\\MI_BCI\\s32.mat\n",
      "Reading ..\\datasets\\MI_BCI\\s33.mat\n",
      "Reading ..\\datasets\\MI_BCI\\s34.mat\n",
      "Reading ..\\datasets\\MI_BCI\\s35.mat\n",
      "Reading ..\\datasets\\MI_BCI\\s36.mat\n",
      "Reading ..\\datasets\\MI_BCI\\s37.mat\n",
      "Reading ..\\datasets\\MI_BCI\\s38.mat\n",
      "Reading ..\\datasets\\MI_BCI\\s39.mat\n",
      "Reading ..\\datasets\\MI_BCI\\s40.mat\n",
      "Reading ..\\datasets\\MI_BCI\\s41.mat\n",
      "Reading ..\\datasets\\MI_BCI\\s42.mat\n",
      "Reading ..\\datasets\\MI_BCI\\s43.mat\n",
      "Reading ..\\datasets\\MI_BCI\\s44.mat\n",
      "Reading ..\\datasets\\MI_BCI\\s45.mat\n",
      "Reading ..\\datasets\\MI_BCI\\s46.mat\n",
      "Reading ..\\datasets\\MI_BCI\\s47.mat\n",
      "Reading ..\\datasets\\MI_BCI\\s48.mat\n",
      "Reading ..\\datasets\\MI_BCI\\s49.mat\n",
      "Reading ..\\datasets\\MI_BCI\\s50.mat\n",
      "Reading ..\\datasets\\MI_BCI\\s51.mat\n",
      "Reading ..\\datasets\\MI_BCI\\s52.mat\n"
     ]
    }
   ],
   "source": [
    "# Read in all the matrixes\n",
    "# mat = read_mat('../datasets/MI_BCI/s01.mat')\n",
    "mats = []\n",
    "\n",
    "dirMI = Path('../datasets/MI_BCI/')\n",
    "for fileMI in dirMI.iterdir():\n",
    "    if '.mat' in str(fileMI):\n",
    "        print(f'Reading {fileMI}')\n",
    "        mats.append(read_mat(fileMI))"
   ]
  },
  {
   "cell_type": "code",
   "execution_count": 48,
   "id": "921de704-c39a-4add-8b05-566c4964dfa0",
   "metadata": {
    "scrolled": true
   },
   "outputs": [
    {
     "name": "stdout",
     "output_type": "stream",
     "text": [
      "Creating RawArray with float64 data, n_channels=64, n_times=34048\n",
      "    Range : 0 ... 34047 =      0.000 ...    66.498 secs\n",
      "Ready.\n",
      "Writing '..\\datasets\\Bids_MI_BCI\\README'...\n",
      "Writing '..\\datasets\\Bids_MI_BCI\\participants.tsv'...\n",
      "Writing '..\\datasets\\Bids_MI_BCI\\participants.json'...\n",
      "Writing '../datasets/Bids_MI_BCI/sub-S01/eeg/sub-S01_space-CapTrak_electrodes.tsv'...\n",
      "Writing '../datasets/Bids_MI_BCI/sub-S01/eeg/sub-S01_space-CapTrak_coordsystem.json'...\n",
      "Writing '..\\datasets\\Bids_MI_BCI\\dataset_description.json'...\n",
      "Writing '..\\datasets\\Bids_MI_BCI\\sub-S01\\eeg\\sub-S01_task-rest_eeg.json'...\n",
      "Found no extension for raw file, assuming \"BTi\" format and appending extension .pdf\n",
      "Writing '..\\datasets\\Bids_MI_BCI\\sub-S01\\eeg\\sub-S01_task-rest_channels.tsv'...\n",
      "Copying data files to sub-S01_task-rest_eeg.edf\n"
     ]
    },
    {
     "name": "stderr",
     "output_type": "stream",
     "text": [
      "C:\\Users\\baseb\\AppData\\Local\\Temp\\ipykernel_22596\\4152695372.py:28: RuntimeWarning: No events found or provided. Please add annotations to the raw data, or provide the events and event_id parameters. For resting state data, BIDS recommends naming the task using labels beginning with \"rest\".\n",
      "  write_raw_bids(rawMNE, bids_MI_path, overwrite=True, allow_preload=True, format='EDF')\n",
      "C:\\Users\\baseb\\AppData\\Local\\Temp\\ipykernel_22596\\4152695372.py:28: RuntimeWarning: Converting data files to EDF format\n",
      "  write_raw_bids(rawMNE, bids_MI_path, overwrite=True, allow_preload=True, format='EDF')\n"
     ]
    },
    {
     "name": "stdout",
     "output_type": "stream",
     "text": [
      "Writing '..\\datasets\\Bids_MI_BCI\\sub-S01\\sub-S01_scans.tsv'...\n",
      "Wrote ..\\datasets\\Bids_MI_BCI\\sub-S01\\sub-S01_scans.tsv entry with eeg\\sub-S01_task-rest_eeg.edf.\n",
      "Creating RawArray with float64 data, n_channels=64, n_times=33920\n",
      "    Range : 0 ... 33919 =      0.000 ...    66.248 secs\n",
      "Ready.\n",
      "Writing '..\\datasets\\Bids_MI_BCI\\participants.tsv'...\n",
      "Writing '..\\datasets\\Bids_MI_BCI\\participants.json'...\n",
      "Writing '../datasets/Bids_MI_BCI/sub-S02/eeg/sub-S02_space-CapTrak_electrodes.tsv'...\n",
      "Writing '../datasets/Bids_MI_BCI/sub-S02/eeg/sub-S02_space-CapTrak_coordsystem.json'...\n",
      "Writing '..\\datasets\\Bids_MI_BCI\\dataset_description.json'...\n",
      "Writing '..\\datasets\\Bids_MI_BCI\\sub-S02\\eeg\\sub-S02_task-rest_eeg.json'...\n",
      "Found no extension for raw file, assuming \"BTi\" format and appending extension .pdf\n",
      "Writing '..\\datasets\\Bids_MI_BCI\\sub-S02\\eeg\\sub-S02_task-rest_channels.tsv'...\n",
      "Copying data files to sub-S02_task-rest_eeg.edf\n"
     ]
    },
    {
     "name": "stderr",
     "output_type": "stream",
     "text": [
      "C:\\Users\\baseb\\AppData\\Local\\Temp\\ipykernel_22596\\4152695372.py:28: RuntimeWarning: EDF format requires equal-length data blocks, so 0.5 seconds of zeros were appended to all channels when writing the final block.\n",
      "  write_raw_bids(rawMNE, bids_MI_path, overwrite=True, allow_preload=True, format='EDF')\n",
      "C:\\Users\\baseb\\AppData\\Local\\Temp\\ipykernel_22596\\4152695372.py:28: RuntimeWarning: No events found or provided. Please add annotations to the raw data, or provide the events and event_id parameters. For resting state data, BIDS recommends naming the task using labels beginning with \"rest\".\n",
      "  write_raw_bids(rawMNE, bids_MI_path, overwrite=True, allow_preload=True, format='EDF')\n",
      "C:\\Users\\baseb\\AppData\\Local\\Temp\\ipykernel_22596\\4152695372.py:28: RuntimeWarning: Converting data files to EDF format\n",
      "  write_raw_bids(rawMNE, bids_MI_path, overwrite=True, allow_preload=True, format='EDF')\n"
     ]
    },
    {
     "name": "stdout",
     "output_type": "stream",
     "text": [
      "Writing '..\\datasets\\Bids_MI_BCI\\sub-S02\\sub-S02_scans.tsv'...\n",
      "Wrote ..\\datasets\\Bids_MI_BCI\\sub-S02\\sub-S02_scans.tsv entry with eeg\\sub-S02_task-rest_eeg.edf.\n",
      "Creating RawArray with float64 data, n_channels=64, n_times=33920\n",
      "    Range : 0 ... 33919 =      0.000 ...    66.248 secs\n",
      "Ready.\n",
      "Writing '..\\datasets\\Bids_MI_BCI\\participants.tsv'...\n",
      "Writing '..\\datasets\\Bids_MI_BCI\\participants.json'...\n",
      "Writing '../datasets/Bids_MI_BCI/sub-S03/eeg/sub-S03_space-CapTrak_electrodes.tsv'...\n",
      "Writing '../datasets/Bids_MI_BCI/sub-S03/eeg/sub-S03_space-CapTrak_coordsystem.json'...\n",
      "Writing '..\\datasets\\Bids_MI_BCI\\dataset_description.json'...\n",
      "Writing '..\\datasets\\Bids_MI_BCI\\sub-S03\\eeg\\sub-S03_task-rest_eeg.json'...\n",
      "Found no extension for raw file, assuming \"BTi\" format and appending extension .pdf\n",
      "Writing '..\\datasets\\Bids_MI_BCI\\sub-S03\\eeg\\sub-S03_task-rest_channels.tsv'...\n",
      "Copying data files to sub-S03_task-rest_eeg.edf\n"
     ]
    },
    {
     "name": "stderr",
     "output_type": "stream",
     "text": [
      "C:\\Users\\baseb\\AppData\\Local\\Temp\\ipykernel_22596\\4152695372.py:28: RuntimeWarning: EDF format requires equal-length data blocks, so 0.75 seconds of zeros were appended to all channels when writing the final block.\n",
      "  write_raw_bids(rawMNE, bids_MI_path, overwrite=True, allow_preload=True, format='EDF')\n",
      "C:\\Users\\baseb\\AppData\\Local\\Temp\\ipykernel_22596\\4152695372.py:28: RuntimeWarning: No events found or provided. Please add annotations to the raw data, or provide the events and event_id parameters. For resting state data, BIDS recommends naming the task using labels beginning with \"rest\".\n",
      "  write_raw_bids(rawMNE, bids_MI_path, overwrite=True, allow_preload=True, format='EDF')\n",
      "C:\\Users\\baseb\\AppData\\Local\\Temp\\ipykernel_22596\\4152695372.py:28: RuntimeWarning: Converting data files to EDF format\n",
      "  write_raw_bids(rawMNE, bids_MI_path, overwrite=True, allow_preload=True, format='EDF')\n"
     ]
    },
    {
     "name": "stdout",
     "output_type": "stream",
     "text": [
      "Writing '..\\datasets\\Bids_MI_BCI\\sub-S03\\sub-S03_scans.tsv'...\n",
      "Wrote ..\\datasets\\Bids_MI_BCI\\sub-S03\\sub-S03_scans.tsv entry with eeg\\sub-S03_task-rest_eeg.edf.\n",
      "Creating RawArray with float64 data, n_channels=64, n_times=34048\n",
      "    Range : 0 ... 34047 =      0.000 ...    66.498 secs\n",
      "Ready.\n",
      "Writing '..\\datasets\\Bids_MI_BCI\\participants.tsv'...\n",
      "Writing '..\\datasets\\Bids_MI_BCI\\participants.json'...\n",
      "Writing '../datasets/Bids_MI_BCI/sub-S04/eeg/sub-S04_space-CapTrak_electrodes.tsv'...\n",
      "Writing '../datasets/Bids_MI_BCI/sub-S04/eeg/sub-S04_space-CapTrak_coordsystem.json'...\n",
      "Writing '..\\datasets\\Bids_MI_BCI\\dataset_description.json'...\n",
      "Writing '..\\datasets\\Bids_MI_BCI\\sub-S04\\eeg\\sub-S04_task-rest_eeg.json'...\n",
      "Found no extension for raw file, assuming \"BTi\" format and appending extension .pdf\n",
      "Writing '..\\datasets\\Bids_MI_BCI\\sub-S04\\eeg\\sub-S04_task-rest_channels.tsv'...\n",
      "Copying data files to sub-S04_task-rest_eeg.edf\n"
     ]
    },
    {
     "name": "stderr",
     "output_type": "stream",
     "text": [
      "C:\\Users\\baseb\\AppData\\Local\\Temp\\ipykernel_22596\\4152695372.py:28: RuntimeWarning: EDF format requires equal-length data blocks, so 0.75 seconds of zeros were appended to all channels when writing the final block.\n",
      "  write_raw_bids(rawMNE, bids_MI_path, overwrite=True, allow_preload=True, format='EDF')\n",
      "C:\\Users\\baseb\\AppData\\Local\\Temp\\ipykernel_22596\\4152695372.py:28: RuntimeWarning: No events found or provided. Please add annotations to the raw data, or provide the events and event_id parameters. For resting state data, BIDS recommends naming the task using labels beginning with \"rest\".\n",
      "  write_raw_bids(rawMNE, bids_MI_path, overwrite=True, allow_preload=True, format='EDF')\n",
      "C:\\Users\\baseb\\AppData\\Local\\Temp\\ipykernel_22596\\4152695372.py:28: RuntimeWarning: Converting data files to EDF format\n",
      "  write_raw_bids(rawMNE, bids_MI_path, overwrite=True, allow_preload=True, format='EDF')\n"
     ]
    },
    {
     "name": "stdout",
     "output_type": "stream",
     "text": [
      "Writing '..\\datasets\\Bids_MI_BCI\\sub-S04\\sub-S04_scans.tsv'...\n",
      "Wrote ..\\datasets\\Bids_MI_BCI\\sub-S04\\sub-S04_scans.tsv entry with eeg\\sub-S04_task-rest_eeg.edf.\n",
      "Creating RawArray with float64 data, n_channels=64, n_times=33792\n",
      "    Range : 0 ... 33791 =      0.000 ...    65.998 secs\n",
      "Ready.\n",
      "Writing '..\\datasets\\Bids_MI_BCI\\participants.tsv'...\n",
      "Writing '..\\datasets\\Bids_MI_BCI\\participants.json'...\n",
      "Writing '../datasets/Bids_MI_BCI/sub-S05/eeg/sub-S05_space-CapTrak_electrodes.tsv'...\n",
      "Writing '../datasets/Bids_MI_BCI/sub-S05/eeg/sub-S05_space-CapTrak_coordsystem.json'...\n",
      "Writing '..\\datasets\\Bids_MI_BCI\\dataset_description.json'...\n",
      "Writing '..\\datasets\\Bids_MI_BCI\\sub-S05\\eeg\\sub-S05_task-rest_eeg.json'...\n",
      "Found no extension for raw file, assuming \"BTi\" format and appending extension .pdf\n",
      "Writing '..\\datasets\\Bids_MI_BCI\\sub-S05\\eeg\\sub-S05_task-rest_channels.tsv'...\n",
      "Copying data files to sub-S05_task-rest_eeg.edf\n"
     ]
    },
    {
     "name": "stderr",
     "output_type": "stream",
     "text": [
      "C:\\Users\\baseb\\AppData\\Local\\Temp\\ipykernel_22596\\4152695372.py:28: RuntimeWarning: EDF format requires equal-length data blocks, so 0.5 seconds of zeros were appended to all channels when writing the final block.\n",
      "  write_raw_bids(rawMNE, bids_MI_path, overwrite=True, allow_preload=True, format='EDF')\n",
      "C:\\Users\\baseb\\AppData\\Local\\Temp\\ipykernel_22596\\4152695372.py:28: RuntimeWarning: No events found or provided. Please add annotations to the raw data, or provide the events and event_id parameters. For resting state data, BIDS recommends naming the task using labels beginning with \"rest\".\n",
      "  write_raw_bids(rawMNE, bids_MI_path, overwrite=True, allow_preload=True, format='EDF')\n",
      "C:\\Users\\baseb\\AppData\\Local\\Temp\\ipykernel_22596\\4152695372.py:28: RuntimeWarning: Converting data files to EDF format\n",
      "  write_raw_bids(rawMNE, bids_MI_path, overwrite=True, allow_preload=True, format='EDF')\n"
     ]
    },
    {
     "name": "stdout",
     "output_type": "stream",
     "text": [
      "Writing '..\\datasets\\Bids_MI_BCI\\sub-S05\\sub-S05_scans.tsv'...\n",
      "Wrote ..\\datasets\\Bids_MI_BCI\\sub-S05\\sub-S05_scans.tsv entry with eeg\\sub-S05_task-rest_eeg.edf.\n",
      "Creating RawArray with float64 data, n_channels=64, n_times=34048\n",
      "    Range : 0 ... 34047 =      0.000 ...    66.498 secs\n",
      "Ready.\n",
      "Writing '..\\datasets\\Bids_MI_BCI\\participants.tsv'...\n",
      "Writing '..\\datasets\\Bids_MI_BCI\\participants.json'...\n",
      "Writing '../datasets/Bids_MI_BCI/sub-S06/eeg/sub-S06_space-CapTrak_electrodes.tsv'...\n",
      "Writing '../datasets/Bids_MI_BCI/sub-S06/eeg/sub-S06_space-CapTrak_coordsystem.json'...\n",
      "Writing '..\\datasets\\Bids_MI_BCI\\dataset_description.json'...\n",
      "Writing '..\\datasets\\Bids_MI_BCI\\sub-S06\\eeg\\sub-S06_task-rest_eeg.json'...\n",
      "Found no extension for raw file, assuming \"BTi\" format and appending extension .pdf\n",
      "Writing '..\\datasets\\Bids_MI_BCI\\sub-S06\\eeg\\sub-S06_task-rest_channels.tsv'...\n",
      "Copying data files to sub-S06_task-rest_eeg.edf\n"
     ]
    },
    {
     "name": "stderr",
     "output_type": "stream",
     "text": [
      "C:\\Users\\baseb\\AppData\\Local\\Temp\\ipykernel_22596\\4152695372.py:28: RuntimeWarning: No events found or provided. Please add annotations to the raw data, or provide the events and event_id parameters. For resting state data, BIDS recommends naming the task using labels beginning with \"rest\".\n",
      "  write_raw_bids(rawMNE, bids_MI_path, overwrite=True, allow_preload=True, format='EDF')\n",
      "C:\\Users\\baseb\\AppData\\Local\\Temp\\ipykernel_22596\\4152695372.py:28: RuntimeWarning: Converting data files to EDF format\n",
      "  write_raw_bids(rawMNE, bids_MI_path, overwrite=True, allow_preload=True, format='EDF')\n"
     ]
    },
    {
     "name": "stdout",
     "output_type": "stream",
     "text": [
      "Writing '..\\datasets\\Bids_MI_BCI\\sub-S06\\sub-S06_scans.tsv'...\n",
      "Wrote ..\\datasets\\Bids_MI_BCI\\sub-S06\\sub-S06_scans.tsv entry with eeg\\sub-S06_task-rest_eeg.edf.\n",
      "Creating RawArray with float64 data, n_channels=64, n_times=33792\n",
      "    Range : 0 ... 33791 =      0.000 ...    65.998 secs\n",
      "Ready.\n",
      "Writing '..\\datasets\\Bids_MI_BCI\\participants.tsv'...\n",
      "Writing '..\\datasets\\Bids_MI_BCI\\participants.json'...\n",
      "Writing '../datasets/Bids_MI_BCI/sub-S07/eeg/sub-S07_space-CapTrak_electrodes.tsv'...\n",
      "Writing '../datasets/Bids_MI_BCI/sub-S07/eeg/sub-S07_space-CapTrak_coordsystem.json'...\n",
      "Writing '..\\datasets\\Bids_MI_BCI\\dataset_description.json'...\n",
      "Writing '..\\datasets\\Bids_MI_BCI\\sub-S07\\eeg\\sub-S07_task-rest_eeg.json'...\n",
      "Found no extension for raw file, assuming \"BTi\" format and appending extension .pdf\n",
      "Writing '..\\datasets\\Bids_MI_BCI\\sub-S07\\eeg\\sub-S07_task-rest_channels.tsv'...\n",
      "Copying data files to sub-S07_task-rest_eeg.edf\n"
     ]
    },
    {
     "name": "stderr",
     "output_type": "stream",
     "text": [
      "C:\\Users\\baseb\\AppData\\Local\\Temp\\ipykernel_22596\\4152695372.py:28: RuntimeWarning: EDF format requires equal-length data blocks, so 0.5 seconds of zeros were appended to all channels when writing the final block.\n",
      "  write_raw_bids(rawMNE, bids_MI_path, overwrite=True, allow_preload=True, format='EDF')\n",
      "C:\\Users\\baseb\\AppData\\Local\\Temp\\ipykernel_22596\\4152695372.py:28: RuntimeWarning: No events found or provided. Please add annotations to the raw data, or provide the events and event_id parameters. For resting state data, BIDS recommends naming the task using labels beginning with \"rest\".\n",
      "  write_raw_bids(rawMNE, bids_MI_path, overwrite=True, allow_preload=True, format='EDF')\n",
      "C:\\Users\\baseb\\AppData\\Local\\Temp\\ipykernel_22596\\4152695372.py:28: RuntimeWarning: Converting data files to EDF format\n",
      "  write_raw_bids(rawMNE, bids_MI_path, overwrite=True, allow_preload=True, format='EDF')\n"
     ]
    },
    {
     "name": "stdout",
     "output_type": "stream",
     "text": [
      "Writing '..\\datasets\\Bids_MI_BCI\\sub-S07\\sub-S07_scans.tsv'...\n",
      "Wrote ..\\datasets\\Bids_MI_BCI\\sub-S07\\sub-S07_scans.tsv entry with eeg\\sub-S07_task-rest_eeg.edf.\n",
      "Creating RawArray with float64 data, n_channels=64, n_times=33920\n",
      "    Range : 0 ... 33919 =      0.000 ...    66.248 secs\n",
      "Ready.\n",
      "Writing '..\\datasets\\Bids_MI_BCI\\participants.tsv'...\n",
      "Writing '..\\datasets\\Bids_MI_BCI\\participants.json'...\n",
      "Writing '../datasets/Bids_MI_BCI/sub-S08/eeg/sub-S08_space-CapTrak_electrodes.tsv'...\n",
      "Writing '../datasets/Bids_MI_BCI/sub-S08/eeg/sub-S08_space-CapTrak_coordsystem.json'...\n",
      "Writing '..\\datasets\\Bids_MI_BCI\\dataset_description.json'...\n",
      "Writing '..\\datasets\\Bids_MI_BCI\\sub-S08\\eeg\\sub-S08_task-rest_eeg.json'...\n",
      "Found no extension for raw file, assuming \"BTi\" format and appending extension .pdf\n",
      "Writing '..\\datasets\\Bids_MI_BCI\\sub-S08\\eeg\\sub-S08_task-rest_channels.tsv'...\n",
      "Copying data files to sub-S08_task-rest_eeg.edf\n"
     ]
    },
    {
     "name": "stderr",
     "output_type": "stream",
     "text": [
      "C:\\Users\\baseb\\AppData\\Local\\Temp\\ipykernel_22596\\4152695372.py:28: RuntimeWarning: No events found or provided. Please add annotations to the raw data, or provide the events and event_id parameters. For resting state data, BIDS recommends naming the task using labels beginning with \"rest\".\n",
      "  write_raw_bids(rawMNE, bids_MI_path, overwrite=True, allow_preload=True, format='EDF')\n",
      "C:\\Users\\baseb\\AppData\\Local\\Temp\\ipykernel_22596\\4152695372.py:28: RuntimeWarning: Converting data files to EDF format\n",
      "  write_raw_bids(rawMNE, bids_MI_path, overwrite=True, allow_preload=True, format='EDF')\n"
     ]
    },
    {
     "name": "stdout",
     "output_type": "stream",
     "text": [
      "Writing '..\\datasets\\Bids_MI_BCI\\sub-S08\\sub-S08_scans.tsv'...\n",
      "Wrote ..\\datasets\\Bids_MI_BCI\\sub-S08\\sub-S08_scans.tsv entry with eeg\\sub-S08_task-rest_eeg.edf.\n",
      "Creating RawArray with float64 data, n_channels=64, n_times=33920\n",
      "    Range : 0 ... 33919 =      0.000 ...    66.248 secs\n",
      "Ready.\n",
      "Writing '..\\datasets\\Bids_MI_BCI\\participants.tsv'...\n",
      "Writing '..\\datasets\\Bids_MI_BCI\\participants.json'...\n",
      "Writing '../datasets/Bids_MI_BCI/sub-S09/eeg/sub-S09_space-CapTrak_electrodes.tsv'...\n",
      "Writing '../datasets/Bids_MI_BCI/sub-S09/eeg/sub-S09_space-CapTrak_coordsystem.json'...\n",
      "Writing '..\\datasets\\Bids_MI_BCI\\dataset_description.json'...\n",
      "Writing '..\\datasets\\Bids_MI_BCI\\sub-S09\\eeg\\sub-S09_task-rest_eeg.json'...\n",
      "Found no extension for raw file, assuming \"BTi\" format and appending extension .pdf\n",
      "Writing '..\\datasets\\Bids_MI_BCI\\sub-S09\\eeg\\sub-S09_task-rest_channels.tsv'...\n",
      "Copying data files to sub-S09_task-rest_eeg.edf\n"
     ]
    },
    {
     "name": "stderr",
     "output_type": "stream",
     "text": [
      "C:\\Users\\baseb\\AppData\\Local\\Temp\\ipykernel_22596\\4152695372.py:28: RuntimeWarning: EDF format requires equal-length data blocks, so 0.75 seconds of zeros were appended to all channels when writing the final block.\n",
      "  write_raw_bids(rawMNE, bids_MI_path, overwrite=True, allow_preload=True, format='EDF')\n",
      "C:\\Users\\baseb\\AppData\\Local\\Temp\\ipykernel_22596\\4152695372.py:28: RuntimeWarning: No events found or provided. Please add annotations to the raw data, or provide the events and event_id parameters. For resting state data, BIDS recommends naming the task using labels beginning with \"rest\".\n",
      "  write_raw_bids(rawMNE, bids_MI_path, overwrite=True, allow_preload=True, format='EDF')\n",
      "C:\\Users\\baseb\\AppData\\Local\\Temp\\ipykernel_22596\\4152695372.py:28: RuntimeWarning: Converting data files to EDF format\n",
      "  write_raw_bids(rawMNE, bids_MI_path, overwrite=True, allow_preload=True, format='EDF')\n"
     ]
    },
    {
     "name": "stdout",
     "output_type": "stream",
     "text": [
      "Writing '..\\datasets\\Bids_MI_BCI\\sub-S09\\sub-S09_scans.tsv'...\n",
      "Wrote ..\\datasets\\Bids_MI_BCI\\sub-S09\\sub-S09_scans.tsv entry with eeg\\sub-S09_task-rest_eeg.edf.\n",
      "Creating RawArray with float64 data, n_channels=64, n_times=34048\n",
      "    Range : 0 ... 34047 =      0.000 ...    66.498 secs\n",
      "Ready.\n",
      "Writing '..\\datasets\\Bids_MI_BCI\\participants.tsv'...\n",
      "Writing '..\\datasets\\Bids_MI_BCI\\participants.json'...\n",
      "Writing '../datasets/Bids_MI_BCI/sub-S10/eeg/sub-S10_space-CapTrak_electrodes.tsv'...\n",
      "Writing '../datasets/Bids_MI_BCI/sub-S10/eeg/sub-S10_space-CapTrak_coordsystem.json'...\n",
      "Writing '..\\datasets\\Bids_MI_BCI\\dataset_description.json'...\n",
      "Writing '..\\datasets\\Bids_MI_BCI\\sub-S10\\eeg\\sub-S10_task-rest_eeg.json'...\n",
      "Found no extension for raw file, assuming \"BTi\" format and appending extension .pdf\n",
      "Writing '..\\datasets\\Bids_MI_BCI\\sub-S10\\eeg\\sub-S10_task-rest_channels.tsv'...\n",
      "Copying data files to sub-S10_task-rest_eeg.edf\n"
     ]
    },
    {
     "name": "stderr",
     "output_type": "stream",
     "text": [
      "C:\\Users\\baseb\\AppData\\Local\\Temp\\ipykernel_22596\\4152695372.py:28: RuntimeWarning: EDF format requires equal-length data blocks, so 0.75 seconds of zeros were appended to all channels when writing the final block.\n",
      "  write_raw_bids(rawMNE, bids_MI_path, overwrite=True, allow_preload=True, format='EDF')\n",
      "C:\\Users\\baseb\\AppData\\Local\\Temp\\ipykernel_22596\\4152695372.py:28: RuntimeWarning: No events found or provided. Please add annotations to the raw data, or provide the events and event_id parameters. For resting state data, BIDS recommends naming the task using labels beginning with \"rest\".\n",
      "  write_raw_bids(rawMNE, bids_MI_path, overwrite=True, allow_preload=True, format='EDF')\n",
      "C:\\Users\\baseb\\AppData\\Local\\Temp\\ipykernel_22596\\4152695372.py:28: RuntimeWarning: Converting data files to EDF format\n",
      "  write_raw_bids(rawMNE, bids_MI_path, overwrite=True, allow_preload=True, format='EDF')\n"
     ]
    },
    {
     "name": "stdout",
     "output_type": "stream",
     "text": [
      "Writing '..\\datasets\\Bids_MI_BCI\\sub-S10\\sub-S10_scans.tsv'...\n",
      "Wrote ..\\datasets\\Bids_MI_BCI\\sub-S10\\sub-S10_scans.tsv entry with eeg\\sub-S10_task-rest_eeg.edf.\n",
      "Creating RawArray with float64 data, n_channels=64, n_times=34048\n",
      "    Range : 0 ... 34047 =      0.000 ...    66.498 secs\n",
      "Ready.\n",
      "Writing '..\\datasets\\Bids_MI_BCI\\participants.tsv'...\n",
      "Writing '..\\datasets\\Bids_MI_BCI\\participants.json'...\n",
      "Writing '../datasets/Bids_MI_BCI/sub-S11/eeg/sub-S11_space-CapTrak_electrodes.tsv'...\n",
      "Writing '../datasets/Bids_MI_BCI/sub-S11/eeg/sub-S11_space-CapTrak_coordsystem.json'...\n",
      "Writing '..\\datasets\\Bids_MI_BCI\\dataset_description.json'...\n",
      "Writing '..\\datasets\\Bids_MI_BCI\\sub-S11\\eeg\\sub-S11_task-rest_eeg.json'...\n",
      "Found no extension for raw file, assuming \"BTi\" format and appending extension .pdf\n",
      "Writing '..\\datasets\\Bids_MI_BCI\\sub-S11\\eeg\\sub-S11_task-rest_channels.tsv'...\n",
      "Copying data files to sub-S11_task-rest_eeg.edf\n"
     ]
    },
    {
     "name": "stderr",
     "output_type": "stream",
     "text": [
      "C:\\Users\\baseb\\AppData\\Local\\Temp\\ipykernel_22596\\4152695372.py:28: RuntimeWarning: EDF format requires equal-length data blocks, so 0.5 seconds of zeros were appended to all channels when writing the final block.\n",
      "  write_raw_bids(rawMNE, bids_MI_path, overwrite=True, allow_preload=True, format='EDF')\n",
      "C:\\Users\\baseb\\AppData\\Local\\Temp\\ipykernel_22596\\4152695372.py:28: RuntimeWarning: No events found or provided. Please add annotations to the raw data, or provide the events and event_id parameters. For resting state data, BIDS recommends naming the task using labels beginning with \"rest\".\n",
      "  write_raw_bids(rawMNE, bids_MI_path, overwrite=True, allow_preload=True, format='EDF')\n",
      "C:\\Users\\baseb\\AppData\\Local\\Temp\\ipykernel_22596\\4152695372.py:28: RuntimeWarning: Converting data files to EDF format\n",
      "  write_raw_bids(rawMNE, bids_MI_path, overwrite=True, allow_preload=True, format='EDF')\n"
     ]
    },
    {
     "name": "stdout",
     "output_type": "stream",
     "text": [
      "Writing '..\\datasets\\Bids_MI_BCI\\sub-S11\\sub-S11_scans.tsv'...\n",
      "Wrote ..\\datasets\\Bids_MI_BCI\\sub-S11\\sub-S11_scans.tsv entry with eeg\\sub-S11_task-rest_eeg.edf.\n",
      "Creating RawArray with float64 data, n_channels=64, n_times=33792\n",
      "    Range : 0 ... 33791 =      0.000 ...    65.998 secs\n",
      "Ready.\n",
      "Writing '..\\datasets\\Bids_MI_BCI\\participants.tsv'...\n",
      "Writing '..\\datasets\\Bids_MI_BCI\\participants.json'...\n",
      "Writing '../datasets/Bids_MI_BCI/sub-S12/eeg/sub-S12_space-CapTrak_electrodes.tsv'...\n",
      "Writing '../datasets/Bids_MI_BCI/sub-S12/eeg/sub-S12_space-CapTrak_coordsystem.json'...\n",
      "Writing '..\\datasets\\Bids_MI_BCI\\dataset_description.json'...\n",
      "Writing '..\\datasets\\Bids_MI_BCI\\sub-S12\\eeg\\sub-S12_task-rest_eeg.json'...\n",
      "Found no extension for raw file, assuming \"BTi\" format and appending extension .pdf\n",
      "Writing '..\\datasets\\Bids_MI_BCI\\sub-S12\\eeg\\sub-S12_task-rest_channels.tsv'...\n",
      "Copying data files to sub-S12_task-rest_eeg.edf\n"
     ]
    },
    {
     "name": "stderr",
     "output_type": "stream",
     "text": [
      "C:\\Users\\baseb\\AppData\\Local\\Temp\\ipykernel_22596\\4152695372.py:28: RuntimeWarning: EDF format requires equal-length data blocks, so 0.5 seconds of zeros were appended to all channels when writing the final block.\n",
      "  write_raw_bids(rawMNE, bids_MI_path, overwrite=True, allow_preload=True, format='EDF')\n",
      "C:\\Users\\baseb\\AppData\\Local\\Temp\\ipykernel_22596\\4152695372.py:28: RuntimeWarning: No events found or provided. Please add annotations to the raw data, or provide the events and event_id parameters. For resting state data, BIDS recommends naming the task using labels beginning with \"rest\".\n",
      "  write_raw_bids(rawMNE, bids_MI_path, overwrite=True, allow_preload=True, format='EDF')\n",
      "C:\\Users\\baseb\\AppData\\Local\\Temp\\ipykernel_22596\\4152695372.py:28: RuntimeWarning: Converting data files to EDF format\n",
      "  write_raw_bids(rawMNE, bids_MI_path, overwrite=True, allow_preload=True, format='EDF')\n"
     ]
    },
    {
     "name": "stdout",
     "output_type": "stream",
     "text": [
      "Writing '..\\datasets\\Bids_MI_BCI\\sub-S12\\sub-S12_scans.tsv'...\n",
      "Wrote ..\\datasets\\Bids_MI_BCI\\sub-S12\\sub-S12_scans.tsv entry with eeg\\sub-S12_task-rest_eeg.edf.\n",
      "Creating RawArray with float64 data, n_channels=64, n_times=33792\n",
      "    Range : 0 ... 33791 =      0.000 ...    65.998 secs\n",
      "Ready.\n",
      "Writing '..\\datasets\\Bids_MI_BCI\\participants.tsv'...\n",
      "Writing '..\\datasets\\Bids_MI_BCI\\participants.json'...\n",
      "Writing '../datasets/Bids_MI_BCI/sub-S13/eeg/sub-S13_space-CapTrak_electrodes.tsv'...\n",
      "Writing '../datasets/Bids_MI_BCI/sub-S13/eeg/sub-S13_space-CapTrak_coordsystem.json'...\n",
      "Writing '..\\datasets\\Bids_MI_BCI\\dataset_description.json'...\n",
      "Writing '..\\datasets\\Bids_MI_BCI\\sub-S13\\eeg\\sub-S13_task-rest_eeg.json'...\n",
      "Found no extension for raw file, assuming \"BTi\" format and appending extension .pdf\n",
      "Writing '..\\datasets\\Bids_MI_BCI\\sub-S13\\eeg\\sub-S13_task-rest_channels.tsv'...\n",
      "Copying data files to sub-S13_task-rest_eeg.edf\n"
     ]
    },
    {
     "name": "stderr",
     "output_type": "stream",
     "text": [
      "C:\\Users\\baseb\\AppData\\Local\\Temp\\ipykernel_22596\\4152695372.py:28: RuntimeWarning: No events found or provided. Please add annotations to the raw data, or provide the events and event_id parameters. For resting state data, BIDS recommends naming the task using labels beginning with \"rest\".\n",
      "  write_raw_bids(rawMNE, bids_MI_path, overwrite=True, allow_preload=True, format='EDF')\n",
      "C:\\Users\\baseb\\AppData\\Local\\Temp\\ipykernel_22596\\4152695372.py:28: RuntimeWarning: Converting data files to EDF format\n",
      "  write_raw_bids(rawMNE, bids_MI_path, overwrite=True, allow_preload=True, format='EDF')\n"
     ]
    },
    {
     "name": "stdout",
     "output_type": "stream",
     "text": [
      "Writing '..\\datasets\\Bids_MI_BCI\\sub-S13\\sub-S13_scans.tsv'...\n",
      "Wrote ..\\datasets\\Bids_MI_BCI\\sub-S13\\sub-S13_scans.tsv entry with eeg\\sub-S13_task-rest_eeg.edf.\n",
      "Creating RawArray with float64 data, n_channels=64, n_times=34048\n",
      "    Range : 0 ... 34047 =      0.000 ...    66.498 secs\n",
      "Ready.\n",
      "Writing '..\\datasets\\Bids_MI_BCI\\participants.tsv'...\n",
      "Writing '..\\datasets\\Bids_MI_BCI\\participants.json'...\n",
      "Writing '../datasets/Bids_MI_BCI/sub-S14/eeg/sub-S14_space-CapTrak_electrodes.tsv'...\n",
      "Writing '../datasets/Bids_MI_BCI/sub-S14/eeg/sub-S14_space-CapTrak_coordsystem.json'...\n",
      "Writing '..\\datasets\\Bids_MI_BCI\\dataset_description.json'...\n",
      "Writing '..\\datasets\\Bids_MI_BCI\\sub-S14\\eeg\\sub-S14_task-rest_eeg.json'...\n",
      "Found no extension for raw file, assuming \"BTi\" format and appending extension .pdf\n",
      "Writing '..\\datasets\\Bids_MI_BCI\\sub-S14\\eeg\\sub-S14_task-rest_channels.tsv'...\n",
      "Copying data files to sub-S14_task-rest_eeg.edf\n"
     ]
    },
    {
     "name": "stderr",
     "output_type": "stream",
     "text": [
      "C:\\Users\\baseb\\AppData\\Local\\Temp\\ipykernel_22596\\4152695372.py:28: RuntimeWarning: No events found or provided. Please add annotations to the raw data, or provide the events and event_id parameters. For resting state data, BIDS recommends naming the task using labels beginning with \"rest\".\n",
      "  write_raw_bids(rawMNE, bids_MI_path, overwrite=True, allow_preload=True, format='EDF')\n",
      "C:\\Users\\baseb\\AppData\\Local\\Temp\\ipykernel_22596\\4152695372.py:28: RuntimeWarning: Converting data files to EDF format\n",
      "  write_raw_bids(rawMNE, bids_MI_path, overwrite=True, allow_preload=True, format='EDF')\n"
     ]
    },
    {
     "name": "stdout",
     "output_type": "stream",
     "text": [
      "Writing '..\\datasets\\Bids_MI_BCI\\sub-S14\\sub-S14_scans.tsv'...\n",
      "Wrote ..\\datasets\\Bids_MI_BCI\\sub-S14\\sub-S14_scans.tsv entry with eeg\\sub-S14_task-rest_eeg.edf.\n",
      "Creating RawArray with float64 data, n_channels=64, n_times=33920\n",
      "    Range : 0 ... 33919 =      0.000 ...    66.248 secs\n",
      "Ready.\n",
      "Writing '..\\datasets\\Bids_MI_BCI\\participants.tsv'...\n",
      "Writing '..\\datasets\\Bids_MI_BCI\\participants.json'...\n",
      "Writing '../datasets/Bids_MI_BCI/sub-S15/eeg/sub-S15_space-CapTrak_electrodes.tsv'...\n",
      "Writing '../datasets/Bids_MI_BCI/sub-S15/eeg/sub-S15_space-CapTrak_coordsystem.json'...\n",
      "Writing '..\\datasets\\Bids_MI_BCI\\dataset_description.json'...\n",
      "Writing '..\\datasets\\Bids_MI_BCI\\sub-S15\\eeg\\sub-S15_task-rest_eeg.json'...\n",
      "Found no extension for raw file, assuming \"BTi\" format and appending extension .pdf\n",
      "Writing '..\\datasets\\Bids_MI_BCI\\sub-S15\\eeg\\sub-S15_task-rest_channels.tsv'...\n",
      "Copying data files to sub-S15_task-rest_eeg.edf\n"
     ]
    },
    {
     "name": "stderr",
     "output_type": "stream",
     "text": [
      "C:\\Users\\baseb\\AppData\\Local\\Temp\\ipykernel_22596\\4152695372.py:28: RuntimeWarning: EDF format requires equal-length data blocks, so 0.5 seconds of zeros were appended to all channels when writing the final block.\n",
      "  write_raw_bids(rawMNE, bids_MI_path, overwrite=True, allow_preload=True, format='EDF')\n",
      "C:\\Users\\baseb\\AppData\\Local\\Temp\\ipykernel_22596\\4152695372.py:28: RuntimeWarning: No events found or provided. Please add annotations to the raw data, or provide the events and event_id parameters. For resting state data, BIDS recommends naming the task using labels beginning with \"rest\".\n",
      "  write_raw_bids(rawMNE, bids_MI_path, overwrite=True, allow_preload=True, format='EDF')\n",
      "C:\\Users\\baseb\\AppData\\Local\\Temp\\ipykernel_22596\\4152695372.py:28: RuntimeWarning: Converting data files to EDF format\n",
      "  write_raw_bids(rawMNE, bids_MI_path, overwrite=True, allow_preload=True, format='EDF')\n"
     ]
    },
    {
     "name": "stdout",
     "output_type": "stream",
     "text": [
      "Writing '..\\datasets\\Bids_MI_BCI\\sub-S15\\sub-S15_scans.tsv'...\n",
      "Wrote ..\\datasets\\Bids_MI_BCI\\sub-S15\\sub-S15_scans.tsv entry with eeg\\sub-S15_task-rest_eeg.edf.\n",
      "Creating RawArray with float64 data, n_channels=64, n_times=34048\n",
      "    Range : 0 ... 34047 =      0.000 ...    66.498 secs\n",
      "Ready.\n",
      "Writing '..\\datasets\\Bids_MI_BCI\\participants.tsv'...\n",
      "Writing '..\\datasets\\Bids_MI_BCI\\participants.json'...\n",
      "Writing '../datasets/Bids_MI_BCI/sub-S16/eeg/sub-S16_space-CapTrak_electrodes.tsv'...\n",
      "Writing '../datasets/Bids_MI_BCI/sub-S16/eeg/sub-S16_space-CapTrak_coordsystem.json'...\n",
      "Writing '..\\datasets\\Bids_MI_BCI\\dataset_description.json'...\n",
      "Writing '..\\datasets\\Bids_MI_BCI\\sub-S16\\eeg\\sub-S16_task-rest_eeg.json'...\n",
      "Found no extension for raw file, assuming \"BTi\" format and appending extension .pdf\n",
      "Writing '..\\datasets\\Bids_MI_BCI\\sub-S16\\eeg\\sub-S16_task-rest_channels.tsv'...\n",
      "Copying data files to sub-S16_task-rest_eeg.edf\n"
     ]
    },
    {
     "name": "stderr",
     "output_type": "stream",
     "text": [
      "C:\\Users\\baseb\\AppData\\Local\\Temp\\ipykernel_22596\\4152695372.py:28: RuntimeWarning: EDF format requires equal-length data blocks, so 0.75 seconds of zeros were appended to all channels when writing the final block.\n",
      "  write_raw_bids(rawMNE, bids_MI_path, overwrite=True, allow_preload=True, format='EDF')\n",
      "C:\\Users\\baseb\\AppData\\Local\\Temp\\ipykernel_22596\\4152695372.py:28: RuntimeWarning: No events found or provided. Please add annotations to the raw data, or provide the events and event_id parameters. For resting state data, BIDS recommends naming the task using labels beginning with \"rest\".\n",
      "  write_raw_bids(rawMNE, bids_MI_path, overwrite=True, allow_preload=True, format='EDF')\n",
      "C:\\Users\\baseb\\AppData\\Local\\Temp\\ipykernel_22596\\4152695372.py:28: RuntimeWarning: Converting data files to EDF format\n",
      "  write_raw_bids(rawMNE, bids_MI_path, overwrite=True, allow_preload=True, format='EDF')\n"
     ]
    },
    {
     "name": "stdout",
     "output_type": "stream",
     "text": [
      "Writing '..\\datasets\\Bids_MI_BCI\\sub-S16\\sub-S16_scans.tsv'...\n",
      "Wrote ..\\datasets\\Bids_MI_BCI\\sub-S16\\sub-S16_scans.tsv entry with eeg\\sub-S16_task-rest_eeg.edf.\n",
      "Creating RawArray with float64 data, n_channels=64, n_times=33792\n",
      "    Range : 0 ... 33791 =      0.000 ...    65.998 secs\n",
      "Ready.\n",
      "Writing '..\\datasets\\Bids_MI_BCI\\participants.tsv'...\n",
      "Writing '..\\datasets\\Bids_MI_BCI\\participants.json'...\n",
      "Writing '../datasets/Bids_MI_BCI/sub-S17/eeg/sub-S17_space-CapTrak_electrodes.tsv'...\n",
      "Writing '../datasets/Bids_MI_BCI/sub-S17/eeg/sub-S17_space-CapTrak_coordsystem.json'...\n",
      "Writing '..\\datasets\\Bids_MI_BCI\\dataset_description.json'...\n",
      "Writing '..\\datasets\\Bids_MI_BCI\\sub-S17\\eeg\\sub-S17_task-rest_eeg.json'...\n",
      "Found no extension for raw file, assuming \"BTi\" format and appending extension .pdf\n",
      "Writing '..\\datasets\\Bids_MI_BCI\\sub-S17\\eeg\\sub-S17_task-rest_channels.tsv'...\n",
      "Copying data files to sub-S17_task-rest_eeg.edf\n"
     ]
    },
    {
     "name": "stderr",
     "output_type": "stream",
     "text": [
      "C:\\Users\\baseb\\AppData\\Local\\Temp\\ipykernel_22596\\4152695372.py:28: RuntimeWarning: EDF format requires equal-length data blocks, so 0.5 seconds of zeros were appended to all channels when writing the final block.\n",
      "  write_raw_bids(rawMNE, bids_MI_path, overwrite=True, allow_preload=True, format='EDF')\n",
      "C:\\Users\\baseb\\AppData\\Local\\Temp\\ipykernel_22596\\4152695372.py:28: RuntimeWarning: No events found or provided. Please add annotations to the raw data, or provide the events and event_id parameters. For resting state data, BIDS recommends naming the task using labels beginning with \"rest\".\n",
      "  write_raw_bids(rawMNE, bids_MI_path, overwrite=True, allow_preload=True, format='EDF')\n",
      "C:\\Users\\baseb\\AppData\\Local\\Temp\\ipykernel_22596\\4152695372.py:28: RuntimeWarning: Converting data files to EDF format\n",
      "  write_raw_bids(rawMNE, bids_MI_path, overwrite=True, allow_preload=True, format='EDF')\n"
     ]
    },
    {
     "name": "stdout",
     "output_type": "stream",
     "text": [
      "Writing '..\\datasets\\Bids_MI_BCI\\sub-S17\\sub-S17_scans.tsv'...\n",
      "Wrote ..\\datasets\\Bids_MI_BCI\\sub-S17\\sub-S17_scans.tsv entry with eeg\\sub-S17_task-rest_eeg.edf.\n",
      "Creating RawArray with float64 data, n_channels=64, n_times=33920\n",
      "    Range : 0 ... 33919 =      0.000 ...    66.248 secs\n",
      "Ready.\n",
      "Writing '..\\datasets\\Bids_MI_BCI\\participants.tsv'...\n",
      "Writing '..\\datasets\\Bids_MI_BCI\\participants.json'...\n",
      "Writing '../datasets/Bids_MI_BCI/sub-S18/eeg/sub-S18_space-CapTrak_electrodes.tsv'...\n",
      "Writing '../datasets/Bids_MI_BCI/sub-S18/eeg/sub-S18_space-CapTrak_coordsystem.json'...\n",
      "Writing '..\\datasets\\Bids_MI_BCI\\dataset_description.json'...\n",
      "Writing '..\\datasets\\Bids_MI_BCI\\sub-S18\\eeg\\sub-S18_task-rest_eeg.json'...\n",
      "Found no extension for raw file, assuming \"BTi\" format and appending extension .pdf\n",
      "Writing '..\\datasets\\Bids_MI_BCI\\sub-S18\\eeg\\sub-S18_task-rest_channels.tsv'...\n",
      "Copying data files to sub-S18_task-rest_eeg.edf\n"
     ]
    },
    {
     "name": "stderr",
     "output_type": "stream",
     "text": [
      "C:\\Users\\baseb\\AppData\\Local\\Temp\\ipykernel_22596\\4152695372.py:28: RuntimeWarning: No events found or provided. Please add annotations to the raw data, or provide the events and event_id parameters. For resting state data, BIDS recommends naming the task using labels beginning with \"rest\".\n",
      "  write_raw_bids(rawMNE, bids_MI_path, overwrite=True, allow_preload=True, format='EDF')\n",
      "C:\\Users\\baseb\\AppData\\Local\\Temp\\ipykernel_22596\\4152695372.py:28: RuntimeWarning: Converting data files to EDF format\n",
      "  write_raw_bids(rawMNE, bids_MI_path, overwrite=True, allow_preload=True, format='EDF')\n"
     ]
    },
    {
     "name": "stdout",
     "output_type": "stream",
     "text": [
      "Writing '..\\datasets\\Bids_MI_BCI\\sub-S18\\sub-S18_scans.tsv'...\n",
      "Wrote ..\\datasets\\Bids_MI_BCI\\sub-S18\\sub-S18_scans.tsv entry with eeg\\sub-S18_task-rest_eeg.edf.\n",
      "Creating RawArray with float64 data, n_channels=64, n_times=34048\n",
      "    Range : 0 ... 34047 =      0.000 ...    66.498 secs\n",
      "Ready.\n",
      "Writing '..\\datasets\\Bids_MI_BCI\\participants.tsv'...\n",
      "Writing '..\\datasets\\Bids_MI_BCI\\participants.json'...\n",
      "Writing '../datasets/Bids_MI_BCI/sub-S19/eeg/sub-S19_space-CapTrak_electrodes.tsv'...\n",
      "Writing '../datasets/Bids_MI_BCI/sub-S19/eeg/sub-S19_space-CapTrak_coordsystem.json'...\n",
      "Writing '..\\datasets\\Bids_MI_BCI\\dataset_description.json'...\n",
      "Writing '..\\datasets\\Bids_MI_BCI\\sub-S19\\eeg\\sub-S19_task-rest_eeg.json'...\n",
      "Found no extension for raw file, assuming \"BTi\" format and appending extension .pdf\n",
      "Writing '..\\datasets\\Bids_MI_BCI\\sub-S19\\eeg\\sub-S19_task-rest_channels.tsv'...\n",
      "Copying data files to sub-S19_task-rest_eeg.edf\n"
     ]
    },
    {
     "name": "stderr",
     "output_type": "stream",
     "text": [
      "C:\\Users\\baseb\\AppData\\Local\\Temp\\ipykernel_22596\\4152695372.py:28: RuntimeWarning: EDF format requires equal-length data blocks, so 0.75 seconds of zeros were appended to all channels when writing the final block.\n",
      "  write_raw_bids(rawMNE, bids_MI_path, overwrite=True, allow_preload=True, format='EDF')\n",
      "C:\\Users\\baseb\\AppData\\Local\\Temp\\ipykernel_22596\\4152695372.py:28: RuntimeWarning: No events found or provided. Please add annotations to the raw data, or provide the events and event_id parameters. For resting state data, BIDS recommends naming the task using labels beginning with \"rest\".\n",
      "  write_raw_bids(rawMNE, bids_MI_path, overwrite=True, allow_preload=True, format='EDF')\n",
      "C:\\Users\\baseb\\AppData\\Local\\Temp\\ipykernel_22596\\4152695372.py:28: RuntimeWarning: Converting data files to EDF format\n",
      "  write_raw_bids(rawMNE, bids_MI_path, overwrite=True, allow_preload=True, format='EDF')\n"
     ]
    },
    {
     "name": "stdout",
     "output_type": "stream",
     "text": [
      "Writing '..\\datasets\\Bids_MI_BCI\\sub-S19\\sub-S19_scans.tsv'...\n",
      "Wrote ..\\datasets\\Bids_MI_BCI\\sub-S19\\sub-S19_scans.tsv entry with eeg\\sub-S19_task-rest_eeg.edf.\n",
      "Creating RawArray with float64 data, n_channels=64, n_times=33792\n",
      "    Range : 0 ... 33791 =      0.000 ...    65.998 secs\n",
      "Ready.\n",
      "Writing '..\\datasets\\Bids_MI_BCI\\participants.tsv'...\n",
      "Writing '..\\datasets\\Bids_MI_BCI\\participants.json'...\n",
      "Writing '../datasets/Bids_MI_BCI/sub-S20/eeg/sub-S20_space-CapTrak_electrodes.tsv'...\n",
      "Writing '../datasets/Bids_MI_BCI/sub-S20/eeg/sub-S20_space-CapTrak_coordsystem.json'...\n",
      "Writing '..\\datasets\\Bids_MI_BCI\\dataset_description.json'...\n",
      "Writing '..\\datasets\\Bids_MI_BCI\\sub-S20\\eeg\\sub-S20_task-rest_eeg.json'...\n",
      "Found no extension for raw file, assuming \"BTi\" format and appending extension .pdf\n",
      "Writing '..\\datasets\\Bids_MI_BCI\\sub-S20\\eeg\\sub-S20_task-rest_channels.tsv'...\n",
      "Copying data files to sub-S20_task-rest_eeg.edf\n"
     ]
    },
    {
     "name": "stderr",
     "output_type": "stream",
     "text": [
      "C:\\Users\\baseb\\AppData\\Local\\Temp\\ipykernel_22596\\4152695372.py:28: RuntimeWarning: EDF format requires equal-length data blocks, so 0.5 seconds of zeros were appended to all channels when writing the final block.\n",
      "  write_raw_bids(rawMNE, bids_MI_path, overwrite=True, allow_preload=True, format='EDF')\n",
      "C:\\Users\\baseb\\AppData\\Local\\Temp\\ipykernel_22596\\4152695372.py:28: RuntimeWarning: No events found or provided. Please add annotations to the raw data, or provide the events and event_id parameters. For resting state data, BIDS recommends naming the task using labels beginning with \"rest\".\n",
      "  write_raw_bids(rawMNE, bids_MI_path, overwrite=True, allow_preload=True, format='EDF')\n",
      "C:\\Users\\baseb\\AppData\\Local\\Temp\\ipykernel_22596\\4152695372.py:28: RuntimeWarning: Converting data files to EDF format\n",
      "  write_raw_bids(rawMNE, bids_MI_path, overwrite=True, allow_preload=True, format='EDF')\n"
     ]
    },
    {
     "name": "stdout",
     "output_type": "stream",
     "text": [
      "Writing '..\\datasets\\Bids_MI_BCI\\sub-S20\\sub-S20_scans.tsv'...\n",
      "Wrote ..\\datasets\\Bids_MI_BCI\\sub-S20\\sub-S20_scans.tsv entry with eeg\\sub-S20_task-rest_eeg.edf.\n",
      "Creating RawArray with float64 data, n_channels=64, n_times=34048\n",
      "    Range : 0 ... 34047 =      0.000 ...    66.498 secs\n",
      "Ready.\n",
      "Writing '..\\datasets\\Bids_MI_BCI\\participants.tsv'...\n",
      "Writing '..\\datasets\\Bids_MI_BCI\\participants.json'...\n",
      "Writing '../datasets/Bids_MI_BCI/sub-S21/eeg/sub-S21_space-CapTrak_electrodes.tsv'...\n",
      "Writing '../datasets/Bids_MI_BCI/sub-S21/eeg/sub-S21_space-CapTrak_coordsystem.json'...\n",
      "Writing '..\\datasets\\Bids_MI_BCI\\dataset_description.json'...\n",
      "Writing '..\\datasets\\Bids_MI_BCI\\sub-S21\\eeg\\sub-S21_task-rest_eeg.json'...\n",
      "Found no extension for raw file, assuming \"BTi\" format and appending extension .pdf\n",
      "Writing '..\\datasets\\Bids_MI_BCI\\sub-S21\\eeg\\sub-S21_task-rest_channels.tsv'...\n",
      "Copying data files to sub-S21_task-rest_eeg.edf\n"
     ]
    },
    {
     "name": "stderr",
     "output_type": "stream",
     "text": [
      "C:\\Users\\baseb\\AppData\\Local\\Temp\\ipykernel_22596\\4152695372.py:28: RuntimeWarning: No events found or provided. Please add annotations to the raw data, or provide the events and event_id parameters. For resting state data, BIDS recommends naming the task using labels beginning with \"rest\".\n",
      "  write_raw_bids(rawMNE, bids_MI_path, overwrite=True, allow_preload=True, format='EDF')\n",
      "C:\\Users\\baseb\\AppData\\Local\\Temp\\ipykernel_22596\\4152695372.py:28: RuntimeWarning: Converting data files to EDF format\n",
      "  write_raw_bids(rawMNE, bids_MI_path, overwrite=True, allow_preload=True, format='EDF')\n"
     ]
    },
    {
     "name": "stdout",
     "output_type": "stream",
     "text": [
      "Writing '..\\datasets\\Bids_MI_BCI\\sub-S21\\sub-S21_scans.tsv'...\n",
      "Wrote ..\\datasets\\Bids_MI_BCI\\sub-S21\\sub-S21_scans.tsv entry with eeg\\sub-S21_task-rest_eeg.edf.\n",
      "Creating RawArray with float64 data, n_channels=64, n_times=33920\n",
      "    Range : 0 ... 33919 =      0.000 ...    66.248 secs\n",
      "Ready.\n",
      "Writing '..\\datasets\\Bids_MI_BCI\\participants.tsv'...\n",
      "Writing '..\\datasets\\Bids_MI_BCI\\participants.json'...\n",
      "Writing '../datasets/Bids_MI_BCI/sub-S22/eeg/sub-S22_space-CapTrak_electrodes.tsv'...\n",
      "Writing '../datasets/Bids_MI_BCI/sub-S22/eeg/sub-S22_space-CapTrak_coordsystem.json'...\n",
      "Writing '..\\datasets\\Bids_MI_BCI\\dataset_description.json'...\n",
      "Writing '..\\datasets\\Bids_MI_BCI\\sub-S22\\eeg\\sub-S22_task-rest_eeg.json'...\n",
      "Found no extension for raw file, assuming \"BTi\" format and appending extension .pdf\n",
      "Writing '..\\datasets\\Bids_MI_BCI\\sub-S22\\eeg\\sub-S22_task-rest_channels.tsv'...\n",
      "Copying data files to sub-S22_task-rest_eeg.edf\n"
     ]
    },
    {
     "name": "stderr",
     "output_type": "stream",
     "text": [
      "C:\\Users\\baseb\\AppData\\Local\\Temp\\ipykernel_22596\\4152695372.py:28: RuntimeWarning: EDF format requires equal-length data blocks, so 0.5 seconds of zeros were appended to all channels when writing the final block.\n",
      "  write_raw_bids(rawMNE, bids_MI_path, overwrite=True, allow_preload=True, format='EDF')\n",
      "C:\\Users\\baseb\\AppData\\Local\\Temp\\ipykernel_22596\\4152695372.py:28: RuntimeWarning: No events found or provided. Please add annotations to the raw data, or provide the events and event_id parameters. For resting state data, BIDS recommends naming the task using labels beginning with \"rest\".\n",
      "  write_raw_bids(rawMNE, bids_MI_path, overwrite=True, allow_preload=True, format='EDF')\n",
      "C:\\Users\\baseb\\AppData\\Local\\Temp\\ipykernel_22596\\4152695372.py:28: RuntimeWarning: Converting data files to EDF format\n",
      "  write_raw_bids(rawMNE, bids_MI_path, overwrite=True, allow_preload=True, format='EDF')\n"
     ]
    },
    {
     "name": "stdout",
     "output_type": "stream",
     "text": [
      "Writing '..\\datasets\\Bids_MI_BCI\\sub-S22\\sub-S22_scans.tsv'...\n",
      "Wrote ..\\datasets\\Bids_MI_BCI\\sub-S22\\sub-S22_scans.tsv entry with eeg\\sub-S22_task-rest_eeg.edf.\n",
      "Creating RawArray with float64 data, n_channels=64, n_times=33792\n",
      "    Range : 0 ... 33791 =      0.000 ...    65.998 secs\n",
      "Ready.\n",
      "Writing '..\\datasets\\Bids_MI_BCI\\participants.tsv'...\n",
      "Writing '..\\datasets\\Bids_MI_BCI\\participants.json'...\n",
      "Writing '../datasets/Bids_MI_BCI/sub-S23/eeg/sub-S23_space-CapTrak_electrodes.tsv'...\n",
      "Writing '../datasets/Bids_MI_BCI/sub-S23/eeg/sub-S23_space-CapTrak_coordsystem.json'...\n",
      "Writing '..\\datasets\\Bids_MI_BCI\\dataset_description.json'...\n",
      "Writing '..\\datasets\\Bids_MI_BCI\\sub-S23\\eeg\\sub-S23_task-rest_eeg.json'...\n",
      "Found no extension for raw file, assuming \"BTi\" format and appending extension .pdf\n",
      "Writing '..\\datasets\\Bids_MI_BCI\\sub-S23\\eeg\\sub-S23_task-rest_channels.tsv'...\n",
      "Copying data files to sub-S23_task-rest_eeg.edf\n"
     ]
    },
    {
     "name": "stderr",
     "output_type": "stream",
     "text": [
      "C:\\Users\\baseb\\AppData\\Local\\Temp\\ipykernel_22596\\4152695372.py:28: RuntimeWarning: EDF format requires equal-length data blocks, so 0.75 seconds of zeros were appended to all channels when writing the final block.\n",
      "  write_raw_bids(rawMNE, bids_MI_path, overwrite=True, allow_preload=True, format='EDF')\n",
      "C:\\Users\\baseb\\AppData\\Local\\Temp\\ipykernel_22596\\4152695372.py:28: RuntimeWarning: No events found or provided. Please add annotations to the raw data, or provide the events and event_id parameters. For resting state data, BIDS recommends naming the task using labels beginning with \"rest\".\n",
      "  write_raw_bids(rawMNE, bids_MI_path, overwrite=True, allow_preload=True, format='EDF')\n",
      "C:\\Users\\baseb\\AppData\\Local\\Temp\\ipykernel_22596\\4152695372.py:28: RuntimeWarning: Converting data files to EDF format\n",
      "  write_raw_bids(rawMNE, bids_MI_path, overwrite=True, allow_preload=True, format='EDF')\n"
     ]
    },
    {
     "name": "stdout",
     "output_type": "stream",
     "text": [
      "Writing '..\\datasets\\Bids_MI_BCI\\sub-S23\\sub-S23_scans.tsv'...\n",
      "Wrote ..\\datasets\\Bids_MI_BCI\\sub-S23\\sub-S23_scans.tsv entry with eeg\\sub-S23_task-rest_eeg.edf.\n",
      "Creating RawArray with float64 data, n_channels=64, n_times=34048\n",
      "    Range : 0 ... 34047 =      0.000 ...    66.498 secs\n",
      "Ready.\n",
      "Writing '..\\datasets\\Bids_MI_BCI\\participants.tsv'...\n",
      "Writing '..\\datasets\\Bids_MI_BCI\\participants.json'...\n",
      "Writing '../datasets/Bids_MI_BCI/sub-S24/eeg/sub-S24_space-CapTrak_electrodes.tsv'...\n",
      "Writing '../datasets/Bids_MI_BCI/sub-S24/eeg/sub-S24_space-CapTrak_coordsystem.json'...\n",
      "Writing '..\\datasets\\Bids_MI_BCI\\dataset_description.json'...\n",
      "Writing '..\\datasets\\Bids_MI_BCI\\sub-S24\\eeg\\sub-S24_task-rest_eeg.json'...\n",
      "Found no extension for raw file, assuming \"BTi\" format and appending extension .pdf\n",
      "Writing '..\\datasets\\Bids_MI_BCI\\sub-S24\\eeg\\sub-S24_task-rest_channels.tsv'...\n",
      "Copying data files to sub-S24_task-rest_eeg.edf\n"
     ]
    },
    {
     "name": "stderr",
     "output_type": "stream",
     "text": [
      "C:\\Users\\baseb\\AppData\\Local\\Temp\\ipykernel_22596\\4152695372.py:28: RuntimeWarning: No events found or provided. Please add annotations to the raw data, or provide the events and event_id parameters. For resting state data, BIDS recommends naming the task using labels beginning with \"rest\".\n",
      "  write_raw_bids(rawMNE, bids_MI_path, overwrite=True, allow_preload=True, format='EDF')\n",
      "C:\\Users\\baseb\\AppData\\Local\\Temp\\ipykernel_22596\\4152695372.py:28: RuntimeWarning: Converting data files to EDF format\n",
      "  write_raw_bids(rawMNE, bids_MI_path, overwrite=True, allow_preload=True, format='EDF')\n"
     ]
    },
    {
     "name": "stdout",
     "output_type": "stream",
     "text": [
      "Writing '..\\datasets\\Bids_MI_BCI\\sub-S24\\sub-S24_scans.tsv'...\n",
      "Wrote ..\\datasets\\Bids_MI_BCI\\sub-S24\\sub-S24_scans.tsv entry with eeg\\sub-S24_task-rest_eeg.edf.\n",
      "Creating RawArray with float64 data, n_channels=64, n_times=34048\n",
      "    Range : 0 ... 34047 =      0.000 ...    66.498 secs\n",
      "Ready.\n",
      "Writing '..\\datasets\\Bids_MI_BCI\\participants.tsv'...\n",
      "Writing '..\\datasets\\Bids_MI_BCI\\participants.json'...\n",
      "Writing '../datasets/Bids_MI_BCI/sub-S25/eeg/sub-S25_space-CapTrak_electrodes.tsv'...\n",
      "Writing '../datasets/Bids_MI_BCI/sub-S25/eeg/sub-S25_space-CapTrak_coordsystem.json'...\n",
      "Writing '..\\datasets\\Bids_MI_BCI\\dataset_description.json'...\n",
      "Writing '..\\datasets\\Bids_MI_BCI\\sub-S25\\eeg\\sub-S25_task-rest_eeg.json'...\n",
      "Found no extension for raw file, assuming \"BTi\" format and appending extension .pdf\n",
      "Writing '..\\datasets\\Bids_MI_BCI\\sub-S25\\eeg\\sub-S25_task-rest_channels.tsv'...\n",
      "Copying data files to sub-S25_task-rest_eeg.edf\n"
     ]
    },
    {
     "name": "stderr",
     "output_type": "stream",
     "text": [
      "C:\\Users\\baseb\\AppData\\Local\\Temp\\ipykernel_22596\\4152695372.py:28: RuntimeWarning: EDF format requires equal-length data blocks, so 0.5 seconds of zeros were appended to all channels when writing the final block.\n",
      "  write_raw_bids(rawMNE, bids_MI_path, overwrite=True, allow_preload=True, format='EDF')\n",
      "C:\\Users\\baseb\\AppData\\Local\\Temp\\ipykernel_22596\\4152695372.py:28: RuntimeWarning: No events found or provided. Please add annotations to the raw data, or provide the events and event_id parameters. For resting state data, BIDS recommends naming the task using labels beginning with \"rest\".\n",
      "  write_raw_bids(rawMNE, bids_MI_path, overwrite=True, allow_preload=True, format='EDF')\n",
      "C:\\Users\\baseb\\AppData\\Local\\Temp\\ipykernel_22596\\4152695372.py:28: RuntimeWarning: Converting data files to EDF format\n",
      "  write_raw_bids(rawMNE, bids_MI_path, overwrite=True, allow_preload=True, format='EDF')\n"
     ]
    },
    {
     "name": "stdout",
     "output_type": "stream",
     "text": [
      "Writing '..\\datasets\\Bids_MI_BCI\\sub-S25\\sub-S25_scans.tsv'...\n",
      "Wrote ..\\datasets\\Bids_MI_BCI\\sub-S25\\sub-S25_scans.tsv entry with eeg\\sub-S25_task-rest_eeg.edf.\n",
      "Creating RawArray with float64 data, n_channels=64, n_times=33792\n",
      "    Range : 0 ... 33791 =      0.000 ...    65.998 secs\n",
      "Ready.\n",
      "Writing '..\\datasets\\Bids_MI_BCI\\participants.tsv'...\n",
      "Writing '..\\datasets\\Bids_MI_BCI\\participants.json'...\n",
      "Writing '../datasets/Bids_MI_BCI/sub-S26/eeg/sub-S26_space-CapTrak_electrodes.tsv'...\n",
      "Writing '../datasets/Bids_MI_BCI/sub-S26/eeg/sub-S26_space-CapTrak_coordsystem.json'...\n",
      "Writing '..\\datasets\\Bids_MI_BCI\\dataset_description.json'...\n",
      "Writing '..\\datasets\\Bids_MI_BCI\\sub-S26\\eeg\\sub-S26_task-rest_eeg.json'...\n",
      "Found no extension for raw file, assuming \"BTi\" format and appending extension .pdf\n",
      "Writing '..\\datasets\\Bids_MI_BCI\\sub-S26\\eeg\\sub-S26_task-rest_channels.tsv'...\n",
      "Copying data files to sub-S26_task-rest_eeg.edf\n"
     ]
    },
    {
     "name": "stderr",
     "output_type": "stream",
     "text": [
      "C:\\Users\\baseb\\AppData\\Local\\Temp\\ipykernel_22596\\4152695372.py:28: RuntimeWarning: EDF format requires equal-length data blocks, so 0.5 seconds of zeros were appended to all channels when writing the final block.\n",
      "  write_raw_bids(rawMNE, bids_MI_path, overwrite=True, allow_preload=True, format='EDF')\n",
      "C:\\Users\\baseb\\AppData\\Local\\Temp\\ipykernel_22596\\4152695372.py:28: RuntimeWarning: No events found or provided. Please add annotations to the raw data, or provide the events and event_id parameters. For resting state data, BIDS recommends naming the task using labels beginning with \"rest\".\n",
      "  write_raw_bids(rawMNE, bids_MI_path, overwrite=True, allow_preload=True, format='EDF')\n",
      "C:\\Users\\baseb\\AppData\\Local\\Temp\\ipykernel_22596\\4152695372.py:28: RuntimeWarning: Converting data files to EDF format\n",
      "  write_raw_bids(rawMNE, bids_MI_path, overwrite=True, allow_preload=True, format='EDF')\n"
     ]
    },
    {
     "name": "stdout",
     "output_type": "stream",
     "text": [
      "Writing '..\\datasets\\Bids_MI_BCI\\sub-S26\\sub-S26_scans.tsv'...\n",
      "Wrote ..\\datasets\\Bids_MI_BCI\\sub-S26\\sub-S26_scans.tsv entry with eeg\\sub-S26_task-rest_eeg.edf.\n",
      "Creating RawArray with float64 data, n_channels=64, n_times=33920\n",
      "    Range : 0 ... 33919 =      0.000 ...    66.248 secs\n",
      "Ready.\n",
      "Writing '..\\datasets\\Bids_MI_BCI\\participants.tsv'...\n",
      "Writing '..\\datasets\\Bids_MI_BCI\\participants.json'...\n",
      "Writing '../datasets/Bids_MI_BCI/sub-S28/eeg/sub-S28_space-CapTrak_electrodes.tsv'...\n",
      "Writing '../datasets/Bids_MI_BCI/sub-S28/eeg/sub-S28_space-CapTrak_coordsystem.json'...\n",
      "Writing '..\\datasets\\Bids_MI_BCI\\dataset_description.json'...\n",
      "Writing '..\\datasets\\Bids_MI_BCI\\sub-S28\\eeg\\sub-S28_task-rest_eeg.json'...\n",
      "Found no extension for raw file, assuming \"BTi\" format and appending extension .pdf\n",
      "Writing '..\\datasets\\Bids_MI_BCI\\sub-S28\\eeg\\sub-S28_task-rest_channels.tsv'...\n",
      "Copying data files to sub-S28_task-rest_eeg.edf\n"
     ]
    },
    {
     "name": "stderr",
     "output_type": "stream",
     "text": [
      "C:\\Users\\baseb\\AppData\\Local\\Temp\\ipykernel_22596\\4152695372.py:28: RuntimeWarning: No events found or provided. Please add annotations to the raw data, or provide the events and event_id parameters. For resting state data, BIDS recommends naming the task using labels beginning with \"rest\".\n",
      "  write_raw_bids(rawMNE, bids_MI_path, overwrite=True, allow_preload=True, format='EDF')\n",
      "C:\\Users\\baseb\\AppData\\Local\\Temp\\ipykernel_22596\\4152695372.py:28: RuntimeWarning: Converting data files to EDF format\n",
      "  write_raw_bids(rawMNE, bids_MI_path, overwrite=True, allow_preload=True, format='EDF')\n"
     ]
    },
    {
     "name": "stdout",
     "output_type": "stream",
     "text": [
      "Writing '..\\datasets\\Bids_MI_BCI\\sub-S28\\sub-S28_scans.tsv'...\n",
      "Wrote ..\\datasets\\Bids_MI_BCI\\sub-S28\\sub-S28_scans.tsv entry with eeg\\sub-S28_task-rest_eeg.edf.\n",
      "Creating RawArray with float64 data, n_channels=64, n_times=33920\n",
      "    Range : 0 ... 33919 =      0.000 ...    66.248 secs\n",
      "Ready.\n",
      "Writing '..\\datasets\\Bids_MI_BCI\\participants.tsv'...\n",
      "Writing '..\\datasets\\Bids_MI_BCI\\participants.json'...\n",
      "Writing '../datasets/Bids_MI_BCI/sub-S29/eeg/sub-S29_space-CapTrak_electrodes.tsv'...\n",
      "Writing '../datasets/Bids_MI_BCI/sub-S29/eeg/sub-S29_space-CapTrak_coordsystem.json'...\n",
      "Writing '..\\datasets\\Bids_MI_BCI\\dataset_description.json'...\n",
      "Writing '..\\datasets\\Bids_MI_BCI\\sub-S29\\eeg\\sub-S29_task-rest_eeg.json'...\n",
      "Found no extension for raw file, assuming \"BTi\" format and appending extension .pdf\n",
      "Writing '..\\datasets\\Bids_MI_BCI\\sub-S29\\eeg\\sub-S29_task-rest_channels.tsv'...\n",
      "Copying data files to sub-S29_task-rest_eeg.edf\n"
     ]
    },
    {
     "name": "stderr",
     "output_type": "stream",
     "text": [
      "C:\\Users\\baseb\\AppData\\Local\\Temp\\ipykernel_22596\\4152695372.py:28: RuntimeWarning: EDF format requires equal-length data blocks, so 0.75 seconds of zeros were appended to all channels when writing the final block.\n",
      "  write_raw_bids(rawMNE, bids_MI_path, overwrite=True, allow_preload=True, format='EDF')\n",
      "C:\\Users\\baseb\\AppData\\Local\\Temp\\ipykernel_22596\\4152695372.py:28: RuntimeWarning: No events found or provided. Please add annotations to the raw data, or provide the events and event_id parameters. For resting state data, BIDS recommends naming the task using labels beginning with \"rest\".\n",
      "  write_raw_bids(rawMNE, bids_MI_path, overwrite=True, allow_preload=True, format='EDF')\n",
      "C:\\Users\\baseb\\AppData\\Local\\Temp\\ipykernel_22596\\4152695372.py:28: RuntimeWarning: Converting data files to EDF format\n",
      "  write_raw_bids(rawMNE, bids_MI_path, overwrite=True, allow_preload=True, format='EDF')\n"
     ]
    },
    {
     "name": "stdout",
     "output_type": "stream",
     "text": [
      "Writing '..\\datasets\\Bids_MI_BCI\\sub-S29\\sub-S29_scans.tsv'...\n",
      "Wrote ..\\datasets\\Bids_MI_BCI\\sub-S29\\sub-S29_scans.tsv entry with eeg\\sub-S29_task-rest_eeg.edf.\n",
      "Creating RawArray with float64 data, n_channels=64, n_times=34048\n",
      "    Range : 0 ... 34047 =      0.000 ...    66.498 secs\n",
      "Ready.\n",
      "Writing '..\\datasets\\Bids_MI_BCI\\participants.tsv'...\n",
      "Writing '..\\datasets\\Bids_MI_BCI\\participants.json'...\n",
      "Writing '../datasets/Bids_MI_BCI/sub-S30/eeg/sub-S30_space-CapTrak_electrodes.tsv'...\n",
      "Writing '../datasets/Bids_MI_BCI/sub-S30/eeg/sub-S30_space-CapTrak_coordsystem.json'...\n",
      "Writing '..\\datasets\\Bids_MI_BCI\\dataset_description.json'...\n",
      "Writing '..\\datasets\\Bids_MI_BCI\\sub-S30\\eeg\\sub-S30_task-rest_eeg.json'...\n",
      "Found no extension for raw file, assuming \"BTi\" format and appending extension .pdf\n",
      "Writing '..\\datasets\\Bids_MI_BCI\\sub-S30\\eeg\\sub-S30_task-rest_channels.tsv'...\n",
      "Copying data files to sub-S30_task-rest_eeg.edf\n"
     ]
    },
    {
     "name": "stderr",
     "output_type": "stream",
     "text": [
      "C:\\Users\\baseb\\AppData\\Local\\Temp\\ipykernel_22596\\4152695372.py:28: RuntimeWarning: EDF format requires equal-length data blocks, so 0.75 seconds of zeros were appended to all channels when writing the final block.\n",
      "  write_raw_bids(rawMNE, bids_MI_path, overwrite=True, allow_preload=True, format='EDF')\n",
      "C:\\Users\\baseb\\AppData\\Local\\Temp\\ipykernel_22596\\4152695372.py:28: RuntimeWarning: No events found or provided. Please add annotations to the raw data, or provide the events and event_id parameters. For resting state data, BIDS recommends naming the task using labels beginning with \"rest\".\n",
      "  write_raw_bids(rawMNE, bids_MI_path, overwrite=True, allow_preload=True, format='EDF')\n",
      "C:\\Users\\baseb\\AppData\\Local\\Temp\\ipykernel_22596\\4152695372.py:28: RuntimeWarning: Converting data files to EDF format\n",
      "  write_raw_bids(rawMNE, bids_MI_path, overwrite=True, allow_preload=True, format='EDF')\n"
     ]
    },
    {
     "name": "stdout",
     "output_type": "stream",
     "text": [
      "Writing '..\\datasets\\Bids_MI_BCI\\sub-S30\\sub-S30_scans.tsv'...\n",
      "Wrote ..\\datasets\\Bids_MI_BCI\\sub-S30\\sub-S30_scans.tsv entry with eeg\\sub-S30_task-rest_eeg.edf.\n",
      "Creating RawArray with float64 data, n_channels=64, n_times=34048\n",
      "    Range : 0 ... 34047 =      0.000 ...    66.498 secs\n",
      "Ready.\n",
      "Writing '..\\datasets\\Bids_MI_BCI\\participants.tsv'...\n",
      "Writing '..\\datasets\\Bids_MI_BCI\\participants.json'...\n",
      "Writing '../datasets/Bids_MI_BCI/sub-S31/eeg/sub-S31_space-CapTrak_electrodes.tsv'...\n",
      "Writing '../datasets/Bids_MI_BCI/sub-S31/eeg/sub-S31_space-CapTrak_coordsystem.json'...\n",
      "Writing '..\\datasets\\Bids_MI_BCI\\dataset_description.json'...\n",
      "Writing '..\\datasets\\Bids_MI_BCI\\sub-S31\\eeg\\sub-S31_task-rest_eeg.json'...\n",
      "Found no extension for raw file, assuming \"BTi\" format and appending extension .pdf\n",
      "Writing '..\\datasets\\Bids_MI_BCI\\sub-S31\\eeg\\sub-S31_task-rest_channels.tsv'...\n",
      "Copying data files to sub-S31_task-rest_eeg.edf\n"
     ]
    },
    {
     "name": "stderr",
     "output_type": "stream",
     "text": [
      "C:\\Users\\baseb\\AppData\\Local\\Temp\\ipykernel_22596\\4152695372.py:28: RuntimeWarning: EDF format requires equal-length data blocks, so 0.5 seconds of zeros were appended to all channels when writing the final block.\n",
      "  write_raw_bids(rawMNE, bids_MI_path, overwrite=True, allow_preload=True, format='EDF')\n",
      "C:\\Users\\baseb\\AppData\\Local\\Temp\\ipykernel_22596\\4152695372.py:28: RuntimeWarning: No events found or provided. Please add annotations to the raw data, or provide the events and event_id parameters. For resting state data, BIDS recommends naming the task using labels beginning with \"rest\".\n",
      "  write_raw_bids(rawMNE, bids_MI_path, overwrite=True, allow_preload=True, format='EDF')\n",
      "C:\\Users\\baseb\\AppData\\Local\\Temp\\ipykernel_22596\\4152695372.py:28: RuntimeWarning: Converting data files to EDF format\n",
      "  write_raw_bids(rawMNE, bids_MI_path, overwrite=True, allow_preload=True, format='EDF')\n"
     ]
    },
    {
     "name": "stdout",
     "output_type": "stream",
     "text": [
      "Writing '..\\datasets\\Bids_MI_BCI\\sub-S31\\sub-S31_scans.tsv'...\n",
      "Wrote ..\\datasets\\Bids_MI_BCI\\sub-S31\\sub-S31_scans.tsv entry with eeg\\sub-S31_task-rest_eeg.edf.\n",
      "Creating RawArray with float64 data, n_channels=64, n_times=33920\n",
      "    Range : 0 ... 33919 =      0.000 ...    66.248 secs\n",
      "Ready.\n",
      "Writing '..\\datasets\\Bids_MI_BCI\\participants.tsv'...\n",
      "Writing '..\\datasets\\Bids_MI_BCI\\participants.json'...\n",
      "Writing '../datasets/Bids_MI_BCI/sub-S32/eeg/sub-S32_space-CapTrak_electrodes.tsv'...\n",
      "Writing '../datasets/Bids_MI_BCI/sub-S32/eeg/sub-S32_space-CapTrak_coordsystem.json'...\n",
      "Writing '..\\datasets\\Bids_MI_BCI\\dataset_description.json'...\n",
      "Writing '..\\datasets\\Bids_MI_BCI\\sub-S32\\eeg\\sub-S32_task-rest_eeg.json'...\n",
      "Found no extension for raw file, assuming \"BTi\" format and appending extension .pdf\n",
      "Writing '..\\datasets\\Bids_MI_BCI\\sub-S32\\eeg\\sub-S32_task-rest_channels.tsv'...\n",
      "Copying data files to sub-S32_task-rest_eeg.edf\n"
     ]
    },
    {
     "name": "stderr",
     "output_type": "stream",
     "text": [
      "C:\\Users\\baseb\\AppData\\Local\\Temp\\ipykernel_22596\\4152695372.py:28: RuntimeWarning: EDF format requires equal-length data blocks, so 0.5 seconds of zeros were appended to all channels when writing the final block.\n",
      "  write_raw_bids(rawMNE, bids_MI_path, overwrite=True, allow_preload=True, format='EDF')\n",
      "C:\\Users\\baseb\\AppData\\Local\\Temp\\ipykernel_22596\\4152695372.py:28: RuntimeWarning: No events found or provided. Please add annotations to the raw data, or provide the events and event_id parameters. For resting state data, BIDS recommends naming the task using labels beginning with \"rest\".\n",
      "  write_raw_bids(rawMNE, bids_MI_path, overwrite=True, allow_preload=True, format='EDF')\n",
      "C:\\Users\\baseb\\AppData\\Local\\Temp\\ipykernel_22596\\4152695372.py:28: RuntimeWarning: Converting data files to EDF format\n",
      "  write_raw_bids(rawMNE, bids_MI_path, overwrite=True, allow_preload=True, format='EDF')\n"
     ]
    },
    {
     "name": "stdout",
     "output_type": "stream",
     "text": [
      "Writing '..\\datasets\\Bids_MI_BCI\\sub-S32\\sub-S32_scans.tsv'...\n",
      "Wrote ..\\datasets\\Bids_MI_BCI\\sub-S32\\sub-S32_scans.tsv entry with eeg\\sub-S32_task-rest_eeg.edf.\n",
      "Creating RawArray with float64 data, n_channels=64, n_times=33792\n",
      "    Range : 0 ... 33791 =      0.000 ...    65.998 secs\n",
      "Ready.\n",
      "Writing '..\\datasets\\Bids_MI_BCI\\participants.tsv'...\n",
      "Writing '..\\datasets\\Bids_MI_BCI\\participants.json'...\n",
      "Writing '../datasets/Bids_MI_BCI/sub-S33/eeg/sub-S33_space-CapTrak_electrodes.tsv'...\n",
      "Writing '../datasets/Bids_MI_BCI/sub-S33/eeg/sub-S33_space-CapTrak_coordsystem.json'...\n",
      "Writing '..\\datasets\\Bids_MI_BCI\\dataset_description.json'...\n",
      "Writing '..\\datasets\\Bids_MI_BCI\\sub-S33\\eeg\\sub-S33_task-rest_eeg.json'...\n",
      "Found no extension for raw file, assuming \"BTi\" format and appending extension .pdf\n",
      "Writing '..\\datasets\\Bids_MI_BCI\\sub-S33\\eeg\\sub-S33_task-rest_channels.tsv'...\n",
      "Copying data files to sub-S33_task-rest_eeg.edf\n"
     ]
    },
    {
     "name": "stderr",
     "output_type": "stream",
     "text": [
      "C:\\Users\\baseb\\AppData\\Local\\Temp\\ipykernel_22596\\4152695372.py:28: RuntimeWarning: EDF format requires equal-length data blocks, so 0.75 seconds of zeros were appended to all channels when writing the final block.\n",
      "  write_raw_bids(rawMNE, bids_MI_path, overwrite=True, allow_preload=True, format='EDF')\n",
      "C:\\Users\\baseb\\AppData\\Local\\Temp\\ipykernel_22596\\4152695372.py:28: RuntimeWarning: No events found or provided. Please add annotations to the raw data, or provide the events and event_id parameters. For resting state data, BIDS recommends naming the task using labels beginning with \"rest\".\n",
      "  write_raw_bids(rawMNE, bids_MI_path, overwrite=True, allow_preload=True, format='EDF')\n",
      "C:\\Users\\baseb\\AppData\\Local\\Temp\\ipykernel_22596\\4152695372.py:28: RuntimeWarning: Converting data files to EDF format\n",
      "  write_raw_bids(rawMNE, bids_MI_path, overwrite=True, allow_preload=True, format='EDF')\n"
     ]
    },
    {
     "name": "stdout",
     "output_type": "stream",
     "text": [
      "Writing '..\\datasets\\Bids_MI_BCI\\sub-S33\\sub-S33_scans.tsv'...\n",
      "Wrote ..\\datasets\\Bids_MI_BCI\\sub-S33\\sub-S33_scans.tsv entry with eeg\\sub-S33_task-rest_eeg.edf.\n",
      "Creating RawArray with float64 data, n_channels=64, n_times=34048\n",
      "    Range : 0 ... 34047 =      0.000 ...    66.498 secs\n",
      "Ready.\n",
      "Writing '..\\datasets\\Bids_MI_BCI\\participants.tsv'...\n",
      "Writing '..\\datasets\\Bids_MI_BCI\\participants.json'...\n",
      "Writing '../datasets/Bids_MI_BCI/sub-S34/eeg/sub-S34_space-CapTrak_electrodes.tsv'...\n",
      "Writing '../datasets/Bids_MI_BCI/sub-S34/eeg/sub-S34_space-CapTrak_coordsystem.json'...\n",
      "Writing '..\\datasets\\Bids_MI_BCI\\dataset_description.json'...\n",
      "Writing '..\\datasets\\Bids_MI_BCI\\sub-S34\\eeg\\sub-S34_task-rest_eeg.json'...\n",
      "Found no extension for raw file, assuming \"BTi\" format and appending extension .pdf\n",
      "Writing '..\\datasets\\Bids_MI_BCI\\sub-S34\\eeg\\sub-S34_task-rest_channels.tsv'...\n",
      "Copying data files to sub-S34_task-rest_eeg.edf\n"
     ]
    },
    {
     "name": "stderr",
     "output_type": "stream",
     "text": [
      "C:\\Users\\baseb\\AppData\\Local\\Temp\\ipykernel_22596\\4152695372.py:28: RuntimeWarning: No events found or provided. Please add annotations to the raw data, or provide the events and event_id parameters. For resting state data, BIDS recommends naming the task using labels beginning with \"rest\".\n",
      "  write_raw_bids(rawMNE, bids_MI_path, overwrite=True, allow_preload=True, format='EDF')\n",
      "C:\\Users\\baseb\\AppData\\Local\\Temp\\ipykernel_22596\\4152695372.py:28: RuntimeWarning: Converting data files to EDF format\n",
      "  write_raw_bids(rawMNE, bids_MI_path, overwrite=True, allow_preload=True, format='EDF')\n"
     ]
    },
    {
     "name": "stdout",
     "output_type": "stream",
     "text": [
      "Writing '..\\datasets\\Bids_MI_BCI\\sub-S34\\sub-S34_scans.tsv'...\n",
      "Wrote ..\\datasets\\Bids_MI_BCI\\sub-S34\\sub-S34_scans.tsv entry with eeg\\sub-S34_task-rest_eeg.edf.\n",
      "Creating RawArray with float64 data, n_channels=64, n_times=33792\n",
      "    Range : 0 ... 33791 =      0.000 ...    65.998 secs\n",
      "Ready.\n",
      "Writing '..\\datasets\\Bids_MI_BCI\\participants.tsv'...\n",
      "Writing '..\\datasets\\Bids_MI_BCI\\participants.json'...\n",
      "Writing '../datasets/Bids_MI_BCI/sub-S35/eeg/sub-S35_space-CapTrak_electrodes.tsv'...\n",
      "Writing '../datasets/Bids_MI_BCI/sub-S35/eeg/sub-S35_space-CapTrak_coordsystem.json'...\n",
      "Writing '..\\datasets\\Bids_MI_BCI\\dataset_description.json'...\n",
      "Writing '..\\datasets\\Bids_MI_BCI\\sub-S35\\eeg\\sub-S35_task-rest_eeg.json'...\n",
      "Found no extension for raw file, assuming \"BTi\" format and appending extension .pdf\n",
      "Writing '..\\datasets\\Bids_MI_BCI\\sub-S35\\eeg\\sub-S35_task-rest_channels.tsv'...\n",
      "Copying data files to sub-S35_task-rest_eeg.edf\n"
     ]
    },
    {
     "name": "stderr",
     "output_type": "stream",
     "text": [
      "C:\\Users\\baseb\\AppData\\Local\\Temp\\ipykernel_22596\\4152695372.py:28: RuntimeWarning: EDF format requires equal-length data blocks, so 0.5 seconds of zeros were appended to all channels when writing the final block.\n",
      "  write_raw_bids(rawMNE, bids_MI_path, overwrite=True, allow_preload=True, format='EDF')\n",
      "C:\\Users\\baseb\\AppData\\Local\\Temp\\ipykernel_22596\\4152695372.py:28: RuntimeWarning: No events found or provided. Please add annotations to the raw data, or provide the events and event_id parameters. For resting state data, BIDS recommends naming the task using labels beginning with \"rest\".\n",
      "  write_raw_bids(rawMNE, bids_MI_path, overwrite=True, allow_preload=True, format='EDF')\n",
      "C:\\Users\\baseb\\AppData\\Local\\Temp\\ipykernel_22596\\4152695372.py:28: RuntimeWarning: Converting data files to EDF format\n",
      "  write_raw_bids(rawMNE, bids_MI_path, overwrite=True, allow_preload=True, format='EDF')\n"
     ]
    },
    {
     "name": "stdout",
     "output_type": "stream",
     "text": [
      "Writing '..\\datasets\\Bids_MI_BCI\\sub-S35\\sub-S35_scans.tsv'...\n",
      "Wrote ..\\datasets\\Bids_MI_BCI\\sub-S35\\sub-S35_scans.tsv entry with eeg\\sub-S35_task-rest_eeg.edf.\n",
      "Creating RawArray with float64 data, n_channels=64, n_times=33792\n",
      "    Range : 0 ... 33791 =      0.000 ...    65.998 secs\n",
      "Ready.\n",
      "Writing '..\\datasets\\Bids_MI_BCI\\participants.tsv'...\n",
      "Writing '..\\datasets\\Bids_MI_BCI\\participants.json'...\n",
      "Writing '../datasets/Bids_MI_BCI/sub-S36/eeg/sub-S36_space-CapTrak_electrodes.tsv'...\n",
      "Writing '../datasets/Bids_MI_BCI/sub-S36/eeg/sub-S36_space-CapTrak_coordsystem.json'...\n",
      "Writing '..\\datasets\\Bids_MI_BCI\\dataset_description.json'...\n",
      "Writing '..\\datasets\\Bids_MI_BCI\\sub-S36\\eeg\\sub-S36_task-rest_eeg.json'...\n",
      "Found no extension for raw file, assuming \"BTi\" format and appending extension .pdf\n",
      "Writing '..\\datasets\\Bids_MI_BCI\\sub-S36\\eeg\\sub-S36_task-rest_channels.tsv'...\n",
      "Copying data files to sub-S36_task-rest_eeg.edf\n"
     ]
    },
    {
     "name": "stderr",
     "output_type": "stream",
     "text": [
      "C:\\Users\\baseb\\AppData\\Local\\Temp\\ipykernel_22596\\4152695372.py:28: RuntimeWarning: No events found or provided. Please add annotations to the raw data, or provide the events and event_id parameters. For resting state data, BIDS recommends naming the task using labels beginning with \"rest\".\n",
      "  write_raw_bids(rawMNE, bids_MI_path, overwrite=True, allow_preload=True, format='EDF')\n",
      "C:\\Users\\baseb\\AppData\\Local\\Temp\\ipykernel_22596\\4152695372.py:28: RuntimeWarning: Converting data files to EDF format\n",
      "  write_raw_bids(rawMNE, bids_MI_path, overwrite=True, allow_preload=True, format='EDF')\n"
     ]
    },
    {
     "name": "stdout",
     "output_type": "stream",
     "text": [
      "Writing '..\\datasets\\Bids_MI_BCI\\sub-S36\\sub-S36_scans.tsv'...\n",
      "Wrote ..\\datasets\\Bids_MI_BCI\\sub-S36\\sub-S36_scans.tsv entry with eeg\\sub-S36_task-rest_eeg.edf.\n",
      "Creating RawArray with float64 data, n_channels=64, n_times=33792\n",
      "    Range : 0 ... 33791 =      0.000 ...    65.998 secs\n",
      "Ready.\n",
      "Writing '..\\datasets\\Bids_MI_BCI\\participants.tsv'...\n",
      "Writing '..\\datasets\\Bids_MI_BCI\\participants.json'...\n",
      "Writing '../datasets/Bids_MI_BCI/sub-S37/eeg/sub-S37_space-CapTrak_electrodes.tsv'...\n",
      "Writing '../datasets/Bids_MI_BCI/sub-S37/eeg/sub-S37_space-CapTrak_coordsystem.json'...\n",
      "Writing '..\\datasets\\Bids_MI_BCI\\dataset_description.json'...\n",
      "Writing '..\\datasets\\Bids_MI_BCI\\sub-S37\\eeg\\sub-S37_task-rest_eeg.json'...\n",
      "Found no extension for raw file, assuming \"BTi\" format and appending extension .pdf\n",
      "Writing '..\\datasets\\Bids_MI_BCI\\sub-S37\\eeg\\sub-S37_task-rest_channels.tsv'...\n",
      "Copying data files to sub-S37_task-rest_eeg.edf\n"
     ]
    },
    {
     "name": "stderr",
     "output_type": "stream",
     "text": [
      "C:\\Users\\baseb\\AppData\\Local\\Temp\\ipykernel_22596\\4152695372.py:28: RuntimeWarning: No events found or provided. Please add annotations to the raw data, or provide the events and event_id parameters. For resting state data, BIDS recommends naming the task using labels beginning with \"rest\".\n",
      "  write_raw_bids(rawMNE, bids_MI_path, overwrite=True, allow_preload=True, format='EDF')\n",
      "C:\\Users\\baseb\\AppData\\Local\\Temp\\ipykernel_22596\\4152695372.py:28: RuntimeWarning: Converting data files to EDF format\n",
      "  write_raw_bids(rawMNE, bids_MI_path, overwrite=True, allow_preload=True, format='EDF')\n"
     ]
    },
    {
     "name": "stdout",
     "output_type": "stream",
     "text": [
      "Writing '..\\datasets\\Bids_MI_BCI\\sub-S37\\sub-S37_scans.tsv'...\n",
      "Wrote ..\\datasets\\Bids_MI_BCI\\sub-S37\\sub-S37_scans.tsv entry with eeg\\sub-S37_task-rest_eeg.edf.\n",
      "Creating RawArray with float64 data, n_channels=64, n_times=34048\n",
      "    Range : 0 ... 34047 =      0.000 ...    66.498 secs\n",
      "Ready.\n",
      "Writing '..\\datasets\\Bids_MI_BCI\\participants.tsv'...\n",
      "Writing '..\\datasets\\Bids_MI_BCI\\participants.json'...\n",
      "Writing '../datasets/Bids_MI_BCI/sub-S38/eeg/sub-S38_space-CapTrak_electrodes.tsv'...\n",
      "Writing '../datasets/Bids_MI_BCI/sub-S38/eeg/sub-S38_space-CapTrak_coordsystem.json'...\n",
      "Writing '..\\datasets\\Bids_MI_BCI\\dataset_description.json'...\n",
      "Writing '..\\datasets\\Bids_MI_BCI\\sub-S38\\eeg\\sub-S38_task-rest_eeg.json'...\n",
      "Found no extension for raw file, assuming \"BTi\" format and appending extension .pdf\n",
      "Writing '..\\datasets\\Bids_MI_BCI\\sub-S38\\eeg\\sub-S38_task-rest_channels.tsv'...\n",
      "Copying data files to sub-S38_task-rest_eeg.edf\n"
     ]
    },
    {
     "name": "stderr",
     "output_type": "stream",
     "text": [
      "C:\\Users\\baseb\\AppData\\Local\\Temp\\ipykernel_22596\\4152695372.py:28: RuntimeWarning: No events found or provided. Please add annotations to the raw data, or provide the events and event_id parameters. For resting state data, BIDS recommends naming the task using labels beginning with \"rest\".\n",
      "  write_raw_bids(rawMNE, bids_MI_path, overwrite=True, allow_preload=True, format='EDF')\n",
      "C:\\Users\\baseb\\AppData\\Local\\Temp\\ipykernel_22596\\4152695372.py:28: RuntimeWarning: Converting data files to EDF format\n",
      "  write_raw_bids(rawMNE, bids_MI_path, overwrite=True, allow_preload=True, format='EDF')\n"
     ]
    },
    {
     "name": "stdout",
     "output_type": "stream",
     "text": [
      "Writing '..\\datasets\\Bids_MI_BCI\\sub-S38\\sub-S38_scans.tsv'...\n",
      "Wrote ..\\datasets\\Bids_MI_BCI\\sub-S38\\sub-S38_scans.tsv entry with eeg\\sub-S38_task-rest_eeg.edf.\n",
      "Creating RawArray with float64 data, n_channels=64, n_times=33920\n",
      "    Range : 0 ... 33919 =      0.000 ...    66.248 secs\n",
      "Ready.\n",
      "Writing '..\\datasets\\Bids_MI_BCI\\participants.tsv'...\n",
      "Writing '..\\datasets\\Bids_MI_BCI\\participants.json'...\n",
      "Writing '../datasets/Bids_MI_BCI/sub-S39/eeg/sub-S39_space-CapTrak_electrodes.tsv'...\n",
      "Writing '../datasets/Bids_MI_BCI/sub-S39/eeg/sub-S39_space-CapTrak_coordsystem.json'...\n",
      "Writing '..\\datasets\\Bids_MI_BCI\\dataset_description.json'...\n",
      "Writing '..\\datasets\\Bids_MI_BCI\\sub-S39\\eeg\\sub-S39_task-rest_eeg.json'...\n",
      "Found no extension for raw file, assuming \"BTi\" format and appending extension .pdf\n",
      "Writing '..\\datasets\\Bids_MI_BCI\\sub-S39\\eeg\\sub-S39_task-rest_channels.tsv'...\n",
      "Copying data files to sub-S39_task-rest_eeg.edf\n"
     ]
    },
    {
     "name": "stderr",
     "output_type": "stream",
     "text": [
      "C:\\Users\\baseb\\AppData\\Local\\Temp\\ipykernel_22596\\4152695372.py:28: RuntimeWarning: EDF format requires equal-length data blocks, so 0.5 seconds of zeros were appended to all channels when writing the final block.\n",
      "  write_raw_bids(rawMNE, bids_MI_path, overwrite=True, allow_preload=True, format='EDF')\n",
      "C:\\Users\\baseb\\AppData\\Local\\Temp\\ipykernel_22596\\4152695372.py:28: RuntimeWarning: No events found or provided. Please add annotations to the raw data, or provide the events and event_id parameters. For resting state data, BIDS recommends naming the task using labels beginning with \"rest\".\n",
      "  write_raw_bids(rawMNE, bids_MI_path, overwrite=True, allow_preload=True, format='EDF')\n",
      "C:\\Users\\baseb\\AppData\\Local\\Temp\\ipykernel_22596\\4152695372.py:28: RuntimeWarning: Converting data files to EDF format\n",
      "  write_raw_bids(rawMNE, bids_MI_path, overwrite=True, allow_preload=True, format='EDF')\n"
     ]
    },
    {
     "name": "stdout",
     "output_type": "stream",
     "text": [
      "Writing '..\\datasets\\Bids_MI_BCI\\sub-S39\\sub-S39_scans.tsv'...\n",
      "Wrote ..\\datasets\\Bids_MI_BCI\\sub-S39\\sub-S39_scans.tsv entry with eeg\\sub-S39_task-rest_eeg.edf.\n",
      "Creating RawArray with float64 data, n_channels=64, n_times=33792\n",
      "    Range : 0 ... 33791 =      0.000 ...    65.998 secs\n",
      "Ready.\n",
      "Writing '..\\datasets\\Bids_MI_BCI\\participants.tsv'...\n",
      "Writing '..\\datasets\\Bids_MI_BCI\\participants.json'...\n",
      "Writing '../datasets/Bids_MI_BCI/sub-S40/eeg/sub-S40_space-CapTrak_electrodes.tsv'...\n",
      "Writing '../datasets/Bids_MI_BCI/sub-S40/eeg/sub-S40_space-CapTrak_coordsystem.json'...\n",
      "Writing '..\\datasets\\Bids_MI_BCI\\dataset_description.json'...\n",
      "Writing '..\\datasets\\Bids_MI_BCI\\sub-S40\\eeg\\sub-S40_task-rest_eeg.json'...\n",
      "Found no extension for raw file, assuming \"BTi\" format and appending extension .pdf\n",
      "Writing '..\\datasets\\Bids_MI_BCI\\sub-S40\\eeg\\sub-S40_task-rest_channels.tsv'...\n",
      "Copying data files to sub-S40_task-rest_eeg.edf\n"
     ]
    },
    {
     "name": "stderr",
     "output_type": "stream",
     "text": [
      "C:\\Users\\baseb\\AppData\\Local\\Temp\\ipykernel_22596\\4152695372.py:28: RuntimeWarning: EDF format requires equal-length data blocks, so 0.75 seconds of zeros were appended to all channels when writing the final block.\n",
      "  write_raw_bids(rawMNE, bids_MI_path, overwrite=True, allow_preload=True, format='EDF')\n",
      "C:\\Users\\baseb\\AppData\\Local\\Temp\\ipykernel_22596\\4152695372.py:28: RuntimeWarning: No events found or provided. Please add annotations to the raw data, or provide the events and event_id parameters. For resting state data, BIDS recommends naming the task using labels beginning with \"rest\".\n",
      "  write_raw_bids(rawMNE, bids_MI_path, overwrite=True, allow_preload=True, format='EDF')\n",
      "C:\\Users\\baseb\\AppData\\Local\\Temp\\ipykernel_22596\\4152695372.py:28: RuntimeWarning: Converting data files to EDF format\n",
      "  write_raw_bids(rawMNE, bids_MI_path, overwrite=True, allow_preload=True, format='EDF')\n"
     ]
    },
    {
     "name": "stdout",
     "output_type": "stream",
     "text": [
      "Writing '..\\datasets\\Bids_MI_BCI\\sub-S40\\sub-S40_scans.tsv'...\n",
      "Wrote ..\\datasets\\Bids_MI_BCI\\sub-S40\\sub-S40_scans.tsv entry with eeg\\sub-S40_task-rest_eeg.edf.\n",
      "Creating RawArray with float64 data, n_channels=64, n_times=33792\n",
      "    Range : 0 ... 33791 =      0.000 ...    65.998 secs\n",
      "Ready.\n",
      "Writing '..\\datasets\\Bids_MI_BCI\\participants.tsv'...\n",
      "Writing '..\\datasets\\Bids_MI_BCI\\participants.json'...\n",
      "Writing '../datasets/Bids_MI_BCI/sub-S41/eeg/sub-S41_space-CapTrak_electrodes.tsv'...\n",
      "Writing '../datasets/Bids_MI_BCI/sub-S41/eeg/sub-S41_space-CapTrak_coordsystem.json'...\n",
      "Writing '..\\datasets\\Bids_MI_BCI\\dataset_description.json'...\n",
      "Writing '..\\datasets\\Bids_MI_BCI\\sub-S41\\eeg\\sub-S41_task-rest_eeg.json'...\n",
      "Found no extension for raw file, assuming \"BTi\" format and appending extension .pdf\n",
      "Writing '..\\datasets\\Bids_MI_BCI\\sub-S41\\eeg\\sub-S41_task-rest_channels.tsv'...\n",
      "Copying data files to sub-S41_task-rest_eeg.edf\n"
     ]
    },
    {
     "name": "stderr",
     "output_type": "stream",
     "text": [
      "C:\\Users\\baseb\\AppData\\Local\\Temp\\ipykernel_22596\\4152695372.py:28: RuntimeWarning: No events found or provided. Please add annotations to the raw data, or provide the events and event_id parameters. For resting state data, BIDS recommends naming the task using labels beginning with \"rest\".\n",
      "  write_raw_bids(rawMNE, bids_MI_path, overwrite=True, allow_preload=True, format='EDF')\n",
      "C:\\Users\\baseb\\AppData\\Local\\Temp\\ipykernel_22596\\4152695372.py:28: RuntimeWarning: Converting data files to EDF format\n",
      "  write_raw_bids(rawMNE, bids_MI_path, overwrite=True, allow_preload=True, format='EDF')\n"
     ]
    },
    {
     "name": "stdout",
     "output_type": "stream",
     "text": [
      "Writing '..\\datasets\\Bids_MI_BCI\\sub-S41\\sub-S41_scans.tsv'...\n",
      "Wrote ..\\datasets\\Bids_MI_BCI\\sub-S41\\sub-S41_scans.tsv entry with eeg\\sub-S41_task-rest_eeg.edf.\n",
      "Creating RawArray with float64 data, n_channels=64, n_times=33920\n",
      "    Range : 0 ... 33919 =      0.000 ...    66.248 secs\n",
      "Ready.\n",
      "Writing '..\\datasets\\Bids_MI_BCI\\participants.tsv'...\n",
      "Writing '..\\datasets\\Bids_MI_BCI\\participants.json'...\n",
      "Writing '../datasets/Bids_MI_BCI/sub-S42/eeg/sub-S42_space-CapTrak_electrodes.tsv'...\n",
      "Writing '../datasets/Bids_MI_BCI/sub-S42/eeg/sub-S42_space-CapTrak_coordsystem.json'...\n",
      "Writing '..\\datasets\\Bids_MI_BCI\\dataset_description.json'...\n",
      "Writing '..\\datasets\\Bids_MI_BCI\\sub-S42\\eeg\\sub-S42_task-rest_eeg.json'...\n",
      "Found no extension for raw file, assuming \"BTi\" format and appending extension .pdf\n",
      "Writing '..\\datasets\\Bids_MI_BCI\\sub-S42\\eeg\\sub-S42_task-rest_channels.tsv'...\n",
      "Copying data files to sub-S42_task-rest_eeg.edf\n"
     ]
    },
    {
     "name": "stderr",
     "output_type": "stream",
     "text": [
      "C:\\Users\\baseb\\AppData\\Local\\Temp\\ipykernel_22596\\4152695372.py:28: RuntimeWarning: No events found or provided. Please add annotations to the raw data, or provide the events and event_id parameters. For resting state data, BIDS recommends naming the task using labels beginning with \"rest\".\n",
      "  write_raw_bids(rawMNE, bids_MI_path, overwrite=True, allow_preload=True, format='EDF')\n",
      "C:\\Users\\baseb\\AppData\\Local\\Temp\\ipykernel_22596\\4152695372.py:28: RuntimeWarning: Converting data files to EDF format\n",
      "  write_raw_bids(rawMNE, bids_MI_path, overwrite=True, allow_preload=True, format='EDF')\n"
     ]
    },
    {
     "name": "stdout",
     "output_type": "stream",
     "text": [
      "Writing '..\\datasets\\Bids_MI_BCI\\sub-S42\\sub-S42_scans.tsv'...\n",
      "Wrote ..\\datasets\\Bids_MI_BCI\\sub-S42\\sub-S42_scans.tsv entry with eeg\\sub-S42_task-rest_eeg.edf.\n",
      "Creating RawArray with float64 data, n_channels=64, n_times=33920\n",
      "    Range : 0 ... 33919 =      0.000 ...    66.248 secs\n",
      "Ready.\n",
      "Writing '..\\datasets\\Bids_MI_BCI\\participants.tsv'...\n",
      "Writing '..\\datasets\\Bids_MI_BCI\\participants.json'...\n",
      "Writing '../datasets/Bids_MI_BCI/sub-S43/eeg/sub-S43_space-CapTrak_electrodes.tsv'...\n",
      "Writing '../datasets/Bids_MI_BCI/sub-S43/eeg/sub-S43_space-CapTrak_coordsystem.json'...\n",
      "Writing '..\\datasets\\Bids_MI_BCI\\dataset_description.json'...\n",
      "Writing '..\\datasets\\Bids_MI_BCI\\sub-S43\\eeg\\sub-S43_task-rest_eeg.json'...\n",
      "Found no extension for raw file, assuming \"BTi\" format and appending extension .pdf\n",
      "Writing '..\\datasets\\Bids_MI_BCI\\sub-S43\\eeg\\sub-S43_task-rest_channels.tsv'...\n",
      "Copying data files to sub-S43_task-rest_eeg.edf\n"
     ]
    },
    {
     "name": "stderr",
     "output_type": "stream",
     "text": [
      "C:\\Users\\baseb\\AppData\\Local\\Temp\\ipykernel_22596\\4152695372.py:28: RuntimeWarning: EDF format requires equal-length data blocks, so 0.75 seconds of zeros were appended to all channels when writing the final block.\n",
      "  write_raw_bids(rawMNE, bids_MI_path, overwrite=True, allow_preload=True, format='EDF')\n",
      "C:\\Users\\baseb\\AppData\\Local\\Temp\\ipykernel_22596\\4152695372.py:28: RuntimeWarning: No events found or provided. Please add annotations to the raw data, or provide the events and event_id parameters. For resting state data, BIDS recommends naming the task using labels beginning with \"rest\".\n",
      "  write_raw_bids(rawMNE, bids_MI_path, overwrite=True, allow_preload=True, format='EDF')\n",
      "C:\\Users\\baseb\\AppData\\Local\\Temp\\ipykernel_22596\\4152695372.py:28: RuntimeWarning: Converting data files to EDF format\n",
      "  write_raw_bids(rawMNE, bids_MI_path, overwrite=True, allow_preload=True, format='EDF')\n"
     ]
    },
    {
     "name": "stdout",
     "output_type": "stream",
     "text": [
      "Writing '..\\datasets\\Bids_MI_BCI\\sub-S43\\sub-S43_scans.tsv'...\n",
      "Wrote ..\\datasets\\Bids_MI_BCI\\sub-S43\\sub-S43_scans.tsv entry with eeg\\sub-S43_task-rest_eeg.edf.\n",
      "Creating RawArray with float64 data, n_channels=64, n_times=33920\n",
      "    Range : 0 ... 33919 =      0.000 ...    66.248 secs\n",
      "Ready.\n",
      "Writing '..\\datasets\\Bids_MI_BCI\\participants.tsv'...\n",
      "Writing '..\\datasets\\Bids_MI_BCI\\participants.json'...\n",
      "Writing '../datasets/Bids_MI_BCI/sub-S44/eeg/sub-S44_space-CapTrak_electrodes.tsv'...\n",
      "Writing '../datasets/Bids_MI_BCI/sub-S44/eeg/sub-S44_space-CapTrak_coordsystem.json'...\n",
      "Writing '..\\datasets\\Bids_MI_BCI\\dataset_description.json'...\n",
      "Writing '..\\datasets\\Bids_MI_BCI\\sub-S44\\eeg\\sub-S44_task-rest_eeg.json'...\n",
      "Found no extension for raw file, assuming \"BTi\" format and appending extension .pdf\n",
      "Writing '..\\datasets\\Bids_MI_BCI\\sub-S44\\eeg\\sub-S44_task-rest_channels.tsv'...\n",
      "Copying data files to sub-S44_task-rest_eeg.edf\n"
     ]
    },
    {
     "name": "stderr",
     "output_type": "stream",
     "text": [
      "C:\\Users\\baseb\\AppData\\Local\\Temp\\ipykernel_22596\\4152695372.py:28: RuntimeWarning: EDF format requires equal-length data blocks, so 0.75 seconds of zeros were appended to all channels when writing the final block.\n",
      "  write_raw_bids(rawMNE, bids_MI_path, overwrite=True, allow_preload=True, format='EDF')\n",
      "C:\\Users\\baseb\\AppData\\Local\\Temp\\ipykernel_22596\\4152695372.py:28: RuntimeWarning: No events found or provided. Please add annotations to the raw data, or provide the events and event_id parameters. For resting state data, BIDS recommends naming the task using labels beginning with \"rest\".\n",
      "  write_raw_bids(rawMNE, bids_MI_path, overwrite=True, allow_preload=True, format='EDF')\n",
      "C:\\Users\\baseb\\AppData\\Local\\Temp\\ipykernel_22596\\4152695372.py:28: RuntimeWarning: Converting data files to EDF format\n",
      "  write_raw_bids(rawMNE, bids_MI_path, overwrite=True, allow_preload=True, format='EDF')\n"
     ]
    },
    {
     "name": "stdout",
     "output_type": "stream",
     "text": [
      "Writing '..\\datasets\\Bids_MI_BCI\\sub-S44\\sub-S44_scans.tsv'...\n",
      "Wrote ..\\datasets\\Bids_MI_BCI\\sub-S44\\sub-S44_scans.tsv entry with eeg\\sub-S44_task-rest_eeg.edf.\n",
      "Creating RawArray with float64 data, n_channels=64, n_times=34048\n",
      "    Range : 0 ... 34047 =      0.000 ...    66.498 secs\n",
      "Ready.\n",
      "Writing '..\\datasets\\Bids_MI_BCI\\participants.tsv'...\n",
      "Writing '..\\datasets\\Bids_MI_BCI\\participants.json'...\n",
      "Writing '../datasets/Bids_MI_BCI/sub-S45/eeg/sub-S45_space-CapTrak_electrodes.tsv'...\n",
      "Writing '../datasets/Bids_MI_BCI/sub-S45/eeg/sub-S45_space-CapTrak_coordsystem.json'...\n",
      "Writing '..\\datasets\\Bids_MI_BCI\\dataset_description.json'...\n",
      "Writing '..\\datasets\\Bids_MI_BCI\\sub-S45\\eeg\\sub-S45_task-rest_eeg.json'...\n",
      "Found no extension for raw file, assuming \"BTi\" format and appending extension .pdf\n",
      "Writing '..\\datasets\\Bids_MI_BCI\\sub-S45\\eeg\\sub-S45_task-rest_channels.tsv'...\n",
      "Copying data files to sub-S45_task-rest_eeg.edf\n"
     ]
    },
    {
     "name": "stderr",
     "output_type": "stream",
     "text": [
      "C:\\Users\\baseb\\AppData\\Local\\Temp\\ipykernel_22596\\4152695372.py:28: RuntimeWarning: EDF format requires equal-length data blocks, so 0.75 seconds of zeros were appended to all channels when writing the final block.\n",
      "  write_raw_bids(rawMNE, bids_MI_path, overwrite=True, allow_preload=True, format='EDF')\n",
      "C:\\Users\\baseb\\AppData\\Local\\Temp\\ipykernel_22596\\4152695372.py:28: RuntimeWarning: No events found or provided. Please add annotations to the raw data, or provide the events and event_id parameters. For resting state data, BIDS recommends naming the task using labels beginning with \"rest\".\n",
      "  write_raw_bids(rawMNE, bids_MI_path, overwrite=True, allow_preload=True, format='EDF')\n",
      "C:\\Users\\baseb\\AppData\\Local\\Temp\\ipykernel_22596\\4152695372.py:28: RuntimeWarning: Converting data files to EDF format\n",
      "  write_raw_bids(rawMNE, bids_MI_path, overwrite=True, allow_preload=True, format='EDF')\n"
     ]
    },
    {
     "name": "stdout",
     "output_type": "stream",
     "text": [
      "Writing '..\\datasets\\Bids_MI_BCI\\sub-S45\\sub-S45_scans.tsv'...\n",
      "Wrote ..\\datasets\\Bids_MI_BCI\\sub-S45\\sub-S45_scans.tsv entry with eeg\\sub-S45_task-rest_eeg.edf.\n",
      "Creating RawArray with float64 data, n_channels=64, n_times=33792\n",
      "    Range : 0 ... 33791 =      0.000 ...    65.998 secs\n",
      "Ready.\n",
      "Writing '..\\datasets\\Bids_MI_BCI\\participants.tsv'...\n",
      "Writing '..\\datasets\\Bids_MI_BCI\\participants.json'...\n",
      "Writing '../datasets/Bids_MI_BCI/sub-S46/eeg/sub-S46_space-CapTrak_electrodes.tsv'...\n",
      "Writing '../datasets/Bids_MI_BCI/sub-S46/eeg/sub-S46_space-CapTrak_coordsystem.json'...\n",
      "Writing '..\\datasets\\Bids_MI_BCI\\dataset_description.json'...\n",
      "Writing '..\\datasets\\Bids_MI_BCI\\sub-S46\\eeg\\sub-S46_task-rest_eeg.json'...\n",
      "Found no extension for raw file, assuming \"BTi\" format and appending extension .pdf\n",
      "Writing '..\\datasets\\Bids_MI_BCI\\sub-S46\\eeg\\sub-S46_task-rest_channels.tsv'...\n",
      "Copying data files to sub-S46_task-rest_eeg.edf\n"
     ]
    },
    {
     "name": "stderr",
     "output_type": "stream",
     "text": [
      "C:\\Users\\baseb\\AppData\\Local\\Temp\\ipykernel_22596\\4152695372.py:28: RuntimeWarning: EDF format requires equal-length data blocks, so 0.5 seconds of zeros were appended to all channels when writing the final block.\n",
      "  write_raw_bids(rawMNE, bids_MI_path, overwrite=True, allow_preload=True, format='EDF')\n",
      "C:\\Users\\baseb\\AppData\\Local\\Temp\\ipykernel_22596\\4152695372.py:28: RuntimeWarning: No events found or provided. Please add annotations to the raw data, or provide the events and event_id parameters. For resting state data, BIDS recommends naming the task using labels beginning with \"rest\".\n",
      "  write_raw_bids(rawMNE, bids_MI_path, overwrite=True, allow_preload=True, format='EDF')\n",
      "C:\\Users\\baseb\\AppData\\Local\\Temp\\ipykernel_22596\\4152695372.py:28: RuntimeWarning: Converting data files to EDF format\n",
      "  write_raw_bids(rawMNE, bids_MI_path, overwrite=True, allow_preload=True, format='EDF')\n"
     ]
    },
    {
     "name": "stdout",
     "output_type": "stream",
     "text": [
      "Writing '..\\datasets\\Bids_MI_BCI\\sub-S46\\sub-S46_scans.tsv'...\n",
      "Wrote ..\\datasets\\Bids_MI_BCI\\sub-S46\\sub-S46_scans.tsv entry with eeg\\sub-S46_task-rest_eeg.edf.\n",
      "Creating RawArray with float64 data, n_channels=64, n_times=34048\n",
      "    Range : 0 ... 34047 =      0.000 ...    66.498 secs\n",
      "Ready.\n",
      "Writing '..\\datasets\\Bids_MI_BCI\\participants.tsv'...\n",
      "Writing '..\\datasets\\Bids_MI_BCI\\participants.json'...\n",
      "Writing '../datasets/Bids_MI_BCI/sub-S47/eeg/sub-S47_space-CapTrak_electrodes.tsv'...\n",
      "Writing '../datasets/Bids_MI_BCI/sub-S47/eeg/sub-S47_space-CapTrak_coordsystem.json'...\n",
      "Writing '..\\datasets\\Bids_MI_BCI\\dataset_description.json'...\n",
      "Writing '..\\datasets\\Bids_MI_BCI\\sub-S47\\eeg\\sub-S47_task-rest_eeg.json'...\n",
      "Found no extension for raw file, assuming \"BTi\" format and appending extension .pdf\n",
      "Writing '..\\datasets\\Bids_MI_BCI\\sub-S47\\eeg\\sub-S47_task-rest_channels.tsv'...\n",
      "Copying data files to sub-S47_task-rest_eeg.edf\n"
     ]
    },
    {
     "name": "stderr",
     "output_type": "stream",
     "text": [
      "C:\\Users\\baseb\\AppData\\Local\\Temp\\ipykernel_22596\\4152695372.py:28: RuntimeWarning: No events found or provided. Please add annotations to the raw data, or provide the events and event_id parameters. For resting state data, BIDS recommends naming the task using labels beginning with \"rest\".\n",
      "  write_raw_bids(rawMNE, bids_MI_path, overwrite=True, allow_preload=True, format='EDF')\n",
      "C:\\Users\\baseb\\AppData\\Local\\Temp\\ipykernel_22596\\4152695372.py:28: RuntimeWarning: Converting data files to EDF format\n",
      "  write_raw_bids(rawMNE, bids_MI_path, overwrite=True, allow_preload=True, format='EDF')\n"
     ]
    },
    {
     "name": "stdout",
     "output_type": "stream",
     "text": [
      "Writing '..\\datasets\\Bids_MI_BCI\\sub-S47\\sub-S47_scans.tsv'...\n",
      "Wrote ..\\datasets\\Bids_MI_BCI\\sub-S47\\sub-S47_scans.tsv entry with eeg\\sub-S47_task-rest_eeg.edf.\n",
      "Creating RawArray with float64 data, n_channels=64, n_times=33920\n",
      "    Range : 0 ... 33919 =      0.000 ...    66.248 secs\n",
      "Ready.\n",
      "Writing '..\\datasets\\Bids_MI_BCI\\participants.tsv'...\n",
      "Writing '..\\datasets\\Bids_MI_BCI\\participants.json'...\n",
      "Writing '../datasets/Bids_MI_BCI/sub-S48/eeg/sub-S48_space-CapTrak_electrodes.tsv'...\n",
      "Writing '../datasets/Bids_MI_BCI/sub-S48/eeg/sub-S48_space-CapTrak_coordsystem.json'...\n",
      "Writing '..\\datasets\\Bids_MI_BCI\\dataset_description.json'...\n",
      "Writing '..\\datasets\\Bids_MI_BCI\\sub-S48\\eeg\\sub-S48_task-rest_eeg.json'...\n",
      "Found no extension for raw file, assuming \"BTi\" format and appending extension .pdf\n",
      "Writing '..\\datasets\\Bids_MI_BCI\\sub-S48\\eeg\\sub-S48_task-rest_channels.tsv'...\n",
      "Copying data files to sub-S48_task-rest_eeg.edf\n"
     ]
    },
    {
     "name": "stderr",
     "output_type": "stream",
     "text": [
      "C:\\Users\\baseb\\AppData\\Local\\Temp\\ipykernel_22596\\4152695372.py:28: RuntimeWarning: EDF format requires equal-length data blocks, so 0.5 seconds of zeros were appended to all channels when writing the final block.\n",
      "  write_raw_bids(rawMNE, bids_MI_path, overwrite=True, allow_preload=True, format='EDF')\n",
      "C:\\Users\\baseb\\AppData\\Local\\Temp\\ipykernel_22596\\4152695372.py:28: RuntimeWarning: No events found or provided. Please add annotations to the raw data, or provide the events and event_id parameters. For resting state data, BIDS recommends naming the task using labels beginning with \"rest\".\n",
      "  write_raw_bids(rawMNE, bids_MI_path, overwrite=True, allow_preload=True, format='EDF')\n",
      "C:\\Users\\baseb\\AppData\\Local\\Temp\\ipykernel_22596\\4152695372.py:28: RuntimeWarning: Converting data files to EDF format\n",
      "  write_raw_bids(rawMNE, bids_MI_path, overwrite=True, allow_preload=True, format='EDF')\n"
     ]
    },
    {
     "name": "stdout",
     "output_type": "stream",
     "text": [
      "Writing '..\\datasets\\Bids_MI_BCI\\sub-S48\\sub-S48_scans.tsv'...\n",
      "Wrote ..\\datasets\\Bids_MI_BCI\\sub-S48\\sub-S48_scans.tsv entry with eeg\\sub-S48_task-rest_eeg.edf.\n",
      "Creating RawArray with float64 data, n_channels=64, n_times=33920\n",
      "    Range : 0 ... 33919 =      0.000 ...    66.248 secs\n",
      "Ready.\n",
      "Writing '..\\datasets\\Bids_MI_BCI\\participants.tsv'...\n",
      "Writing '..\\datasets\\Bids_MI_BCI\\participants.json'...\n",
      "Writing '../datasets/Bids_MI_BCI/sub-S49/eeg/sub-S49_space-CapTrak_electrodes.tsv'...\n",
      "Writing '../datasets/Bids_MI_BCI/sub-S49/eeg/sub-S49_space-CapTrak_coordsystem.json'...\n",
      "Writing '..\\datasets\\Bids_MI_BCI\\dataset_description.json'...\n",
      "Writing '..\\datasets\\Bids_MI_BCI\\sub-S49\\eeg\\sub-S49_task-rest_eeg.json'...\n",
      "Found no extension for raw file, assuming \"BTi\" format and appending extension .pdf\n",
      "Writing '..\\datasets\\Bids_MI_BCI\\sub-S49\\eeg\\sub-S49_task-rest_channels.tsv'...\n",
      "Copying data files to sub-S49_task-rest_eeg.edf\n"
     ]
    },
    {
     "name": "stderr",
     "output_type": "stream",
     "text": [
      "C:\\Users\\baseb\\AppData\\Local\\Temp\\ipykernel_22596\\4152695372.py:28: RuntimeWarning: EDF format requires equal-length data blocks, so 0.75 seconds of zeros were appended to all channels when writing the final block.\n",
      "  write_raw_bids(rawMNE, bids_MI_path, overwrite=True, allow_preload=True, format='EDF')\n",
      "C:\\Users\\baseb\\AppData\\Local\\Temp\\ipykernel_22596\\4152695372.py:28: RuntimeWarning: No events found or provided. Please add annotations to the raw data, or provide the events and event_id parameters. For resting state data, BIDS recommends naming the task using labels beginning with \"rest\".\n",
      "  write_raw_bids(rawMNE, bids_MI_path, overwrite=True, allow_preload=True, format='EDF')\n",
      "C:\\Users\\baseb\\AppData\\Local\\Temp\\ipykernel_22596\\4152695372.py:28: RuntimeWarning: Converting data files to EDF format\n",
      "  write_raw_bids(rawMNE, bids_MI_path, overwrite=True, allow_preload=True, format='EDF')\n"
     ]
    },
    {
     "name": "stdout",
     "output_type": "stream",
     "text": [
      "Writing '..\\datasets\\Bids_MI_BCI\\sub-S49\\sub-S49_scans.tsv'...\n",
      "Wrote ..\\datasets\\Bids_MI_BCI\\sub-S49\\sub-S49_scans.tsv entry with eeg\\sub-S49_task-rest_eeg.edf.\n",
      "Creating RawArray with float64 data, n_channels=64, n_times=33792\n",
      "    Range : 0 ... 33791 =      0.000 ...    65.998 secs\n",
      "Ready.\n",
      "Writing '..\\datasets\\Bids_MI_BCI\\participants.tsv'...\n",
      "Writing '..\\datasets\\Bids_MI_BCI\\participants.json'...\n",
      "Writing '../datasets/Bids_MI_BCI/sub-S50/eeg/sub-S50_space-CapTrak_electrodes.tsv'...\n",
      "Writing '../datasets/Bids_MI_BCI/sub-S50/eeg/sub-S50_space-CapTrak_coordsystem.json'...\n",
      "Writing '..\\datasets\\Bids_MI_BCI\\dataset_description.json'...\n",
      "Writing '..\\datasets\\Bids_MI_BCI\\sub-S50\\eeg\\sub-S50_task-rest_eeg.json'...\n",
      "Found no extension for raw file, assuming \"BTi\" format and appending extension .pdf\n",
      "Writing '..\\datasets\\Bids_MI_BCI\\sub-S50\\eeg\\sub-S50_task-rest_channels.tsv'...\n",
      "Copying data files to sub-S50_task-rest_eeg.edf\n"
     ]
    },
    {
     "name": "stderr",
     "output_type": "stream",
     "text": [
      "C:\\Users\\baseb\\AppData\\Local\\Temp\\ipykernel_22596\\4152695372.py:28: RuntimeWarning: EDF format requires equal-length data blocks, so 0.75 seconds of zeros were appended to all channels when writing the final block.\n",
      "  write_raw_bids(rawMNE, bids_MI_path, overwrite=True, allow_preload=True, format='EDF')\n",
      "C:\\Users\\baseb\\AppData\\Local\\Temp\\ipykernel_22596\\4152695372.py:28: RuntimeWarning: No events found or provided. Please add annotations to the raw data, or provide the events and event_id parameters. For resting state data, BIDS recommends naming the task using labels beginning with \"rest\".\n",
      "  write_raw_bids(rawMNE, bids_MI_path, overwrite=True, allow_preload=True, format='EDF')\n",
      "C:\\Users\\baseb\\AppData\\Local\\Temp\\ipykernel_22596\\4152695372.py:28: RuntimeWarning: Converting data files to EDF format\n",
      "  write_raw_bids(rawMNE, bids_MI_path, overwrite=True, allow_preload=True, format='EDF')\n"
     ]
    },
    {
     "name": "stdout",
     "output_type": "stream",
     "text": [
      "Writing '..\\datasets\\Bids_MI_BCI\\sub-S50\\sub-S50_scans.tsv'...\n",
      "Wrote ..\\datasets\\Bids_MI_BCI\\sub-S50\\sub-S50_scans.tsv entry with eeg\\sub-S50_task-rest_eeg.edf.\n",
      "Creating RawArray with float64 data, n_channels=64, n_times=33792\n",
      "    Range : 0 ... 33791 =      0.000 ...    65.998 secs\n",
      "Ready.\n",
      "Writing '..\\datasets\\Bids_MI_BCI\\participants.tsv'...\n",
      "Writing '..\\datasets\\Bids_MI_BCI\\participants.json'...\n",
      "Writing '../datasets/Bids_MI_BCI/sub-S51/eeg/sub-S51_space-CapTrak_electrodes.tsv'...\n",
      "Writing '../datasets/Bids_MI_BCI/sub-S51/eeg/sub-S51_space-CapTrak_coordsystem.json'...\n",
      "Writing '..\\datasets\\Bids_MI_BCI\\dataset_description.json'...\n",
      "Writing '..\\datasets\\Bids_MI_BCI\\sub-S51\\eeg\\sub-S51_task-rest_eeg.json'...\n",
      "Found no extension for raw file, assuming \"BTi\" format and appending extension .pdf\n",
      "Writing '..\\datasets\\Bids_MI_BCI\\sub-S51\\eeg\\sub-S51_task-rest_channels.tsv'...\n",
      "Copying data files to sub-S51_task-rest_eeg.edf\n"
     ]
    },
    {
     "name": "stderr",
     "output_type": "stream",
     "text": [
      "C:\\Users\\baseb\\AppData\\Local\\Temp\\ipykernel_22596\\4152695372.py:28: RuntimeWarning: No events found or provided. Please add annotations to the raw data, or provide the events and event_id parameters. For resting state data, BIDS recommends naming the task using labels beginning with \"rest\".\n",
      "  write_raw_bids(rawMNE, bids_MI_path, overwrite=True, allow_preload=True, format='EDF')\n",
      "C:\\Users\\baseb\\AppData\\Local\\Temp\\ipykernel_22596\\4152695372.py:28: RuntimeWarning: Converting data files to EDF format\n",
      "  write_raw_bids(rawMNE, bids_MI_path, overwrite=True, allow_preload=True, format='EDF')\n"
     ]
    },
    {
     "name": "stdout",
     "output_type": "stream",
     "text": [
      "Writing '..\\datasets\\Bids_MI_BCI\\sub-S51\\sub-S51_scans.tsv'...\n",
      "Wrote ..\\datasets\\Bids_MI_BCI\\sub-S51\\sub-S51_scans.tsv entry with eeg\\sub-S51_task-rest_eeg.edf.\n",
      "Creating RawArray with float64 data, n_channels=64, n_times=34048\n",
      "    Range : 0 ... 34047 =      0.000 ...    66.498 secs\n",
      "Ready.\n",
      "Writing '..\\datasets\\Bids_MI_BCI\\participants.tsv'...\n",
      "Writing '..\\datasets\\Bids_MI_BCI\\participants.json'...\n",
      "Writing '../datasets/Bids_MI_BCI/sub-S52/eeg/sub-S52_space-CapTrak_electrodes.tsv'...\n",
      "Writing '../datasets/Bids_MI_BCI/sub-S52/eeg/sub-S52_space-CapTrak_coordsystem.json'...\n",
      "Writing '..\\datasets\\Bids_MI_BCI\\dataset_description.json'...\n",
      "Writing '..\\datasets\\Bids_MI_BCI\\sub-S52\\eeg\\sub-S52_task-rest_eeg.json'...\n",
      "Found no extension for raw file, assuming \"BTi\" format and appending extension .pdf\n",
      "Writing '..\\datasets\\Bids_MI_BCI\\sub-S52\\eeg\\sub-S52_task-rest_channels.tsv'...\n",
      "Copying data files to sub-S52_task-rest_eeg.edf\n"
     ]
    },
    {
     "name": "stderr",
     "output_type": "stream",
     "text": [
      "C:\\Users\\baseb\\AppData\\Local\\Temp\\ipykernel_22596\\4152695372.py:28: RuntimeWarning: No events found or provided. Please add annotations to the raw data, or provide the events and event_id parameters. For resting state data, BIDS recommends naming the task using labels beginning with \"rest\".\n",
      "  write_raw_bids(rawMNE, bids_MI_path, overwrite=True, allow_preload=True, format='EDF')\n",
      "C:\\Users\\baseb\\AppData\\Local\\Temp\\ipykernel_22596\\4152695372.py:28: RuntimeWarning: Converting data files to EDF format\n",
      "  write_raw_bids(rawMNE, bids_MI_path, overwrite=True, allow_preload=True, format='EDF')\n"
     ]
    },
    {
     "name": "stdout",
     "output_type": "stream",
     "text": [
      "Writing '..\\datasets\\Bids_MI_BCI\\sub-S52\\sub-S52_scans.tsv'...\n",
      "Wrote ..\\datasets\\Bids_MI_BCI\\sub-S52\\sub-S52_scans.tsv entry with eeg\\sub-S52_task-rest_eeg.edf.\n"
     ]
    },
    {
     "name": "stderr",
     "output_type": "stream",
     "text": [
      "C:\\Users\\baseb\\AppData\\Local\\Temp\\ipykernel_22596\\4152695372.py:28: RuntimeWarning: EDF format requires equal-length data blocks, so 0.5 seconds of zeros were appended to all channels when writing the final block.\n",
      "  write_raw_bids(rawMNE, bids_MI_path, overwrite=True, allow_preload=True, format='EDF')\n"
     ]
    }
   ],
   "source": [
    "# Set the BIDs Path for MI_BCI\n",
    "dirBIDsMI = Path('../datasets/Bids_MI_BCI')\n",
    "\n",
    "# Convert the mat files into bids\n",
    "for mat in mats:\n",
    "    # Convert the sensor locations into a dictionary\n",
    "    sensorLocations = mat['eeg']['senloc']\n",
    "    senLocDict = { f'{id}': loc/100 for id, loc in enumerate(sensorLocations) }\n",
    "\n",
    "    # Create a montage with the sensor locations\n",
    "    customMontage = mne.channels.make_dig_montage(ch_pos=senLocDict, coord_frame='head')\n",
    "    # customMontage.plot()\n",
    "\n",
    "    # Create the info for the EEG signal\n",
    "    info = mne.create_info(\n",
    "        ch_names=[ f'{i}' for i in range(64) ], ch_types=['eeg']*64, sfreq=mat['eeg']['srate']\n",
    "    )\n",
    "\n",
    "    # Create mne raw data from the .mat array and the info\n",
    "    rawData = mat['eeg']['rest'][:64]\n",
    "    rawMNE = mne.io.RawArray(rawData * 1e-9, info)\n",
    "\n",
    "    # Set the montage for the raw mne\n",
    "    rawMNE.set_montage(customMontage)\n",
    "\n",
    "    # Set up the path\n",
    "    bids_MI_path = BIDSPath(subject=f'S{mat[\"eeg\"][\"subject\"].split(\" \", 1)[1].zfill(2)}', task='rest', root=dirBIDsMI)\n",
    "    write_raw_bids(rawMNE, bids_MI_path, overwrite=True, allow_preload=True, format='EDF')"
   ]
  },
  {
   "cell_type": "code",
   "execution_count": null,
   "id": "36fe9502-1c52-4e45-8105-68e9bb19ce61",
   "metadata": {},
   "outputs": [],
   "source": []
  }
 ],
 "metadata": {
  "kernelspec": {
   "display_name": "Python 3 (ipykernel)",
   "language": "python",
   "name": "python3"
  },
  "language_info": {
   "codemirror_mode": {
    "name": "ipython",
    "version": 3
   },
   "file_extension": ".py",
   "mimetype": "text/x-python",
   "name": "python",
   "nbconvert_exporter": "python",
   "pygments_lexer": "ipython3",
   "version": "3.11.7"
  }
 },
 "nbformat": 4,
 "nbformat_minor": 5
}
